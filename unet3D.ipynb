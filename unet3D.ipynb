{
 "cells": [
  {
   "cell_type": "markdown",
   "metadata": {},
   "source": [
    "# Unet 3D (Baseline)"
   ]
  },
  {
   "cell_type": "code",
   "execution_count": 1,
   "metadata": {},
   "outputs": [
    {
     "name": "stderr",
     "output_type": "stream",
     "text": [
      "2022-10-30 17:44:51.651997: I tensorflow/core/platform/cpu_feature_guard.cc:193] This TensorFlow binary is optimized with oneAPI Deep Neural Network Library (oneDNN) to use the following CPU instructions in performance-critical operations:  AVX2 FMA\n",
      "To enable them in other operations, rebuild TensorFlow with the appropriate compiler flags.\n",
      "2022-10-30 17:44:53.014605: W tensorflow/stream_executor/platform/default/dso_loader.cc:64] Could not load dynamic library 'libcudart.so.11.0'; dlerror: libcudart.so.11.0: cannot open shared object file: No such file or directory\n",
      "2022-10-30 17:44:53.014647: I tensorflow/stream_executor/cuda/cudart_stub.cc:29] Ignore above cudart dlerror if you do not have a GPU set up on your machine.\n",
      "2022-10-30 17:44:53.187619: E tensorflow/stream_executor/cuda/cuda_blas.cc:2981] Unable to register cuBLAS factory: Attempting to register factory for plugin cuBLAS when one has already been registered\n",
      "2022-10-30 17:44:55.855317: W tensorflow/stream_executor/platform/default/dso_loader.cc:64] Could not load dynamic library 'libnvinfer.so.7'; dlerror: libnvinfer.so.7: cannot open shared object file: No such file or directory\n",
      "2022-10-30 17:44:55.855589: W tensorflow/stream_executor/platform/default/dso_loader.cc:64] Could not load dynamic library 'libnvinfer_plugin.so.7'; dlerror: libnvinfer_plugin.so.7: cannot open shared object file: No such file or directory\n",
      "2022-10-30 17:44:55.855608: W tensorflow/compiler/tf2tensorrt/utils/py_utils.cc:38] TF-TRT Warning: Cannot dlopen some TensorRT libraries. If you would like to use Nvidia GPU with TensorRT, please make sure the missing libraries mentioned above are installed properly.\n"
     ]
    },
    {
     "name": "stdout",
     "output_type": "stream",
     "text": [
      "Dataset found on device at : './challenge_dataset/.'\n"
     ]
    },
    {
     "name": "stderr",
     "output_type": "stream",
     "text": [
      "2022-10-30 17:45:08.179039: W tensorflow/stream_executor/platform/default/dso_loader.cc:64] Could not load dynamic library 'libcuda.so.1'; dlerror: libcuda.so.1: cannot open shared object file: No such file or directory\n",
      "2022-10-30 17:45:08.179700: W tensorflow/stream_executor/cuda/cuda_driver.cc:263] failed call to cuInit: UNKNOWN ERROR (303)\n",
      "2022-10-30 17:45:08.179725: I tensorflow/stream_executor/cuda/cuda_diagnostics.cc:156] kernel driver does not appear to be running on this host (DESKTOP-IN2P6PG): /proc/driver/nvidia/version does not exist\n",
      "2022-10-30 17:45:08.183954: I tensorflow/core/platform/cpu_feature_guard.cc:193] This TensorFlow binary is optimized with oneAPI Deep Neural Network Library (oneDNN) to use the following CPU instructions in performance-critical operations:  AVX2 FMA\n",
      "To enable them in other operations, rebuild TensorFlow with the appropriate compiler flags.\n"
     ]
    }
   ],
   "source": [
    "from utils import instantiate_generator\n",
    "\n",
    "train_data_pipeline, val_data_pipeline = instantiate_generator(train_size=0.8, batch_size = 2)"
   ]
  },
  {
   "cell_type": "code",
   "execution_count": 2,
   "metadata": {},
   "outputs": [
    {
     "name": "stdout",
     "output_type": "stream",
     "text": [
      "Model: \"model\"\n",
      "__________________________________________________________________________________________________\n",
      " Layer (type)                   Output Shape         Param #     Connected to                     \n",
      "==================================================================================================\n",
      " input_1 (InputLayer)           [(None, None, None,  0           []                               \n",
      "                                 None, 1)]                                                        \n",
      "                                                                                                  \n",
      " batch_normalization (BatchNorm  (None, None, None,   4          ['input_1[0][0]']                \n",
      " alization)                     None, 1)                                                          \n",
      "                                                                                                  \n",
      " conv3d (Conv3D)                (None, None, None,   208         ['batch_normalization[0][0]']    \n",
      "                                None, 8)                                                          \n",
      "                                                                                                  \n",
      " conv3d_1 (Conv3D)              (None, None, None,   1736        ['conv3d[0][0]']                 \n",
      "                                None, 8)                                                          \n",
      "                                                                                                  \n",
      " batch_normalization_1 (BatchNo  (None, None, None,   32         ['conv3d_1[0][0]']               \n",
      " rmalization)                   None, 8)                                                          \n",
      "                                                                                                  \n",
      " activation (Activation)        (None, None, None,   0           ['batch_normalization_1[0][0]']  \n",
      "                                None, 8)                                                          \n",
      "                                                                                                  \n",
      " max_pooling3d (MaxPooling3D)   (None, None, None,   0           ['activation[0][0]']             \n",
      "                                None, 8)                                                          \n",
      "                                                                                                  \n",
      " conv3d_2 (Conv3D)              (None, None, None,   3472        ['max_pooling3d[0][0]']          \n",
      "                                None, 16)                                                         \n",
      "                                                                                                  \n",
      " batch_normalization_2 (BatchNo  (None, None, None,   64         ['conv3d_2[0][0]']               \n",
      " rmalization)                   None, 16)                                                         \n",
      "                                                                                                  \n",
      " activation_1 (Activation)      (None, None, None,   0           ['batch_normalization_2[0][0]']  \n",
      "                                None, 16)                                                         \n",
      "                                                                                                  \n",
      " max_pooling3d_1 (MaxPooling3D)  (None, None, None,   0          ['activation_1[0][0]']           \n",
      "                                None, 16)                                                         \n",
      "                                                                                                  \n",
      " conv3d_3 (Conv3D)              (None, None, None,   13856       ['max_pooling3d_1[0][0]']        \n",
      "                                None, 32)                                                         \n",
      "                                                                                                  \n",
      " batch_normalization_3 (BatchNo  (None, None, None,   128        ['conv3d_3[0][0]']               \n",
      " rmalization)                   None, 32)                                                         \n",
      "                                                                                                  \n",
      " activation_2 (Activation)      (None, None, None,   0           ['batch_normalization_3[0][0]']  \n",
      "                                None, 32)                                                         \n",
      "                                                                                                  \n",
      " conv3d_transpose (Conv3DTransp  (None, None, None,   13840      ['activation_2[0][0]']           \n",
      " ose)                           None, 16)                                                         \n",
      "                                                                                                  \n",
      " concatenate (Concatenate)      (None, None, None,   0           ['conv3d_transpose[0][0]',       \n",
      "                                None, 32)                         'activation_1[0][0]']           \n",
      "                                                                                                  \n",
      " conv3d_transpose_1 (Conv3DTran  (None, None, None,   6920       ['concatenate[0][0]']            \n",
      " spose)                         None, 8)                                                          \n",
      "                                                                                                  \n",
      " concatenate_1 (Concatenate)    (None, None, None,   0           ['conv3d_transpose_1[0][0]',     \n",
      "                                None, 16)                         'activation[0][0]']             \n",
      "                                                                                                  \n",
      " conv3d_4 (Conv3D)              (None, None, None,   17          ['concatenate_1[0][0]']          \n",
      "                                None, 1)                                                          \n",
      "                                                                                                  \n",
      " cropping3d (Cropping3D)        (None, None, None,   0           ['conv3d_4[0][0]']               \n",
      "                                None, 1)                                                          \n",
      "                                                                                                  \n",
      " zero_padding3d (ZeroPadding3D)  (None, None, None,   0          ['cropping3d[0][0]']             \n",
      "                                None, 1)                                                          \n",
      "                                                                                                  \n",
      "==================================================================================================\n",
      "Total params: 40,277\n",
      "Trainable params: 40,163\n",
      "Non-trainable params: 114\n",
      "__________________________________________________________________________________________________\n"
     ]
    }
   ],
   "source": [
    "from keras.layers import BatchNormalization, Conv3D, Cropping3D, ZeroPadding3D, Activation, Input\n",
    "from keras.layers import MaxPooling3D, UpSampling3D, Conv3DTranspose, concatenate\n",
    "from keras.models import Model\n",
    "\n",
    "\n",
    "# input shape without batch size and we add one channel for BW color so dim=4\n",
    "in_layer = Input((None, None, None, 1)) \n",
    "bn = BatchNormalization()(in_layer)\n",
    "cn1 = Conv3D(8, \n",
    "             kernel_size = (1, 5, 5), \n",
    "             padding = 'same',\n",
    "             activation = 'relu')(bn)\n",
    "cn2 = Conv3D(8, \n",
    "             kernel_size = (3, 3, 3),\n",
    "             padding = 'same',\n",
    "             activation = 'linear')(cn1)\n",
    "bn2 = Activation('relu')(BatchNormalization()(cn2))\n",
    "\n",
    "dn1 = MaxPooling3D((2, 2, 2))(bn2)\n",
    "cn3 = Conv3D(16, \n",
    "             kernel_size = (3, 3, 3),\n",
    "             padding = 'same',\n",
    "             activation = 'linear')(dn1)\n",
    "bn3 = Activation('relu')(BatchNormalization()(cn3))\n",
    "\n",
    "dn2 = MaxPooling3D((1, 2, 2))(bn3)\n",
    "cn4 = Conv3D(32, \n",
    "             kernel_size = (3, 3, 3),\n",
    "             padding = 'same',\n",
    "             activation = 'linear')(dn2)\n",
    "bn4 = Activation('relu')(BatchNormalization()(cn4))\n",
    "\n",
    "up1 = Conv3DTranspose(16, \n",
    "                      kernel_size = (3, 3, 3),\n",
    "                      strides = (1, 2, 2),\n",
    "                     padding = 'same')(bn4)\n",
    "\n",
    "cat1 = concatenate([up1, bn3])\n",
    "\n",
    "up2 = Conv3DTranspose(8, \n",
    "                      kernel_size = (3, 3, 3),\n",
    "                      strides = (2, 2, 2),\n",
    "                     padding = 'same')(cat1)\n",
    "\n",
    "pre_out = concatenate([up2, bn2])\n",
    "\n",
    "pre_out = Conv3D(1, \n",
    "             kernel_size = (1, 1, 1), \n",
    "             padding = 'same',\n",
    "             activation = 'sigmoid')(pre_out)\n",
    "\n",
    "pre_out = Cropping3D((1, 2, 2))(pre_out) # avoid skewing boundaries\n",
    "out = ZeroPadding3D((1, 2, 2))(pre_out)\n",
    "sim_model = Model(inputs = [in_layer], outputs = [out])\n",
    "sim_model.summary()"
   ]
  },
  {
   "cell_type": "code",
   "execution_count": 3,
   "metadata": {},
   "outputs": [
    {
     "name": "stdout",
     "output_type": "stream",
     "text": [
      "WARNING:tensorflow:`epsilon` argument is deprecated and will be removed, use `min_delta` instead.\n"
     ]
    }
   ],
   "source": [
    "from keras.callbacks import ModelCheckpoint, LearningRateScheduler, EarlyStopping, ReduceLROnPlateau\n",
    "\n",
    "sim_model.compile(optimizer='adam', loss='binary_crossentropy', metrics = ['binary_accuracy', 'mse'])\n",
    "\n",
    "weight_path=\"{}_weights.best.hdf5\".format('model')\n",
    "checkpoint = ModelCheckpoint(weight_path, monitor='val_loss', verbose=1, \n",
    "                             save_best_only=True, mode='min', save_weights_only = True)\n",
    "\n",
    "reduceLROnPlat = ReduceLROnPlateau(monitor='val_loss', factor=0.8, patience=5, verbose=1, mode='auto', epsilon=0.0001, cooldown=5, min_lr=0.0001)\n",
    "early = EarlyStopping(monitor=\"val_loss\", \n",
    "                      mode=\"min\", \n",
    "                      patience=10) # probably needs to be more patient, but kaggle time is limited\n",
    "\n",
    "callbacks_list = [checkpoint, early, reduceLROnPlat]"
   ]
  },
  {
   "cell_type": "code",
   "execution_count": 4,
   "metadata": {},
   "outputs": [
    {
     "name": "stdout",
     "output_type": "stream",
     "text": [
      "Epoch 1/20\n"
     ]
    },
    {
     "name": "stderr",
     "output_type": "stream",
     "text": [
      "2022-10-30 17:45:30.050783: W tensorflow/core/framework/cpu_allocator_impl.cc:82] Allocation of 2038431744 exceeds 10% of free system memory.\n",
      "2022-10-30 17:45:30.052111: W tensorflow/core/framework/cpu_allocator_impl.cc:82] Allocation of 2038431744 exceeds 10% of free system memory.\n"
     ]
    },
    {
     "name": "stdout",
     "output_type": "stream",
     "text": [
      "      1/Unknown - 77s 77s/step - loss: 0.6778 - binary_accuracy: 0.5574 - mse: 0.2470"
     ]
    },
    {
     "name": "stderr",
     "output_type": "stream",
     "text": [
      "2022-10-30 17:46:53.850345: W tensorflow/core/framework/cpu_allocator_impl.cc:82] Allocation of 2038431744 exceeds 10% of free system memory.\n",
      "2022-10-30 17:46:53.853210: W tensorflow/core/framework/cpu_allocator_impl.cc:82] Allocation of 2038431744 exceeds 10% of free system memory.\n"
     ]
    },
    {
     "name": "stdout",
     "output_type": "stream",
     "text": [
      "      2/Unknown - 142s 65s/step - loss: 0.6348 - binary_accuracy: 0.6183 - mse: 0.2271"
     ]
    },
    {
     "name": "stderr",
     "output_type": "stream",
     "text": [
      "2022-10-30 17:47:57.671800: W tensorflow/core/framework/cpu_allocator_impl.cc:82] Allocation of 2038431744 exceeds 10% of free system memory.\n",
      "2022-10-30 17:47:57.675174: W tensorflow/core/framework/cpu_allocator_impl.cc:82] Allocation of 2038431744 exceeds 10% of free system memory.\n"
     ]
    },
    {
     "name": "stdout",
     "output_type": "stream",
     "text": [
      "     24/Unknown - 1504s 62s/step - loss: 0.2095 - binary_accuracy: 0.9425 - mse: 0.0603"
     ]
    }
   ],
   "source": [
    "sim_model.fit(train_data_pipeline, \n",
    "            epochs=20,\n",
    "            validation_data=val_data_pipeline, \n",
    "            verbose=1,\n",
    "            callbacks=callbacks_list)"
   ]
  },
  {
   "cell_type": "code",
   "execution_count": null,
   "metadata": {},
   "outputs": [],
   "source": [
    "import matplotlib.pyplot as plt\n",
    "\n",
    "x,y = next(iter(train_data_pipeline))\n",
    "idx = 1\n",
    "depth = 32\n",
    "\n",
    "im = x[idx, depth]\n",
    "lbl = y[idx, depth]\n",
    "pred = sim_model.predict(x)[idx, depth].squeeze()\n",
    "\n",
    "fig, ax = plt.subplots(1, 3, figsize=(15, 5))\n",
    "ax[0].imshow(im)\n",
    "ax[1].imshow(lbl, cmap='Reds')\n",
    "ax[2].imshow(pred, cmap='Greens')\n",
    "plt.show()"
   ]
  }
 ],
 "metadata": {
  "kernelspec": {
   "display_name": "Python 3.8.10 64-bit",
   "language": "python",
   "name": "python3"
  },
  "language_info": {
   "codemirror_mode": {
    "name": "ipython",
    "version": 3
   },
   "file_extension": ".py",
   "mimetype": "text/x-python",
   "name": "python",
   "nbconvert_exporter": "python",
   "pygments_lexer": "ipython3",
   "version": "3.8.10"
  },
  "orig_nbformat": 4,
  "vscode": {
   "interpreter": {
    "hash": "916dbcbb3f70747c44a77c7bcd40155683ae19c65e1c03b4aa3499c5328201f1"
   }
  }
 },
 "nbformat": 4,
 "nbformat_minor": 2
}
