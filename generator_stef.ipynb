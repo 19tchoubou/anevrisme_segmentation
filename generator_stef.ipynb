{
 "cells": [
  {
   "cell_type": "code",
   "execution_count": 1,
   "metadata": {},
   "outputs": [
    {
     "name": "stdout",
     "output_type": "stream",
     "text": [
      "Segmentation Models: using `tf.keras` framework.\n"
     ]
    }
   ],
   "source": [
    "import os\n",
    "import random\n",
    "import logging\n",
    "import h5py\n",
    "from tqdm import tqdm\n",
    "import numpy as np\n",
    "import matplotlib.pyplot as plt\n",
    "import tensorflow as tf\n",
    "from tensorflow.keras.preprocessing.image import ImageDataGenerator\n",
    "from keras import backend as K\n",
    "from keras.callbacks import ModelCheckpoint, LearningRateScheduler, EarlyStopping, ReduceLROnPlateau\n",
    "from sklearn.model_selection import train_test_split\n",
    "from sklearn.metrics import confusion_matrix, precision_recall_fscore_support\n",
    "\n",
    "# funky librairies for segmentation\n",
    "import segmentation_models_3D as sm\n",
    "from patchify import patchify, unpatchify"
   ]
  },
  {
   "cell_type": "code",
   "execution_count": 2,
   "metadata": {},
   "outputs": [],
   "source": [
    "PATH_DATASET='./challenge_dataset/'\n",
    "CENTER_CUBE_ONLY = False # False train on all data (split volume in 9 cubes), True train only on a (64,64,64) cube around the aneurysm = less data\n",
    "TEST_SIZE = 0.2 # % of test samples from the full dataset\n",
    "VAL_SPLIT = 0.2 # % of training samples kept for the validation metrics\n",
    "CROP = 64"
   ]
  },
  {
   "cell_type": "code",
   "execution_count": 3,
   "metadata": {},
   "outputs": [
    {
     "name": "stdout",
     "output_type": "stream",
     "text": [
      "103 samples in dataset.\n"
     ]
    },
    {
     "name": "stderr",
     "output_type": "stream",
     "text": [
      "100%|██████████| 103/103 [00:04<00:00, 20.91it/s]\n"
     ]
    },
    {
     "name": "stdout",
     "output_type": "stream",
     "text": [
      "(927, 64, 64, 64)\n",
      "(927, 64, 64, 64)\n"
     ]
    }
   ],
   "source": [
    "# get file names\n",
    "file_names = os.listdir(PATH_DATASET)\n",
    "N = len(file_names)\n",
    "print(f'{N} samples in dataset.')\n",
    "\n",
    "# open all .h5 files, split inputs and target masks, store all in np.arrays\n",
    "raw_data = []\n",
    "labels = []\n",
    "names = []\n",
    "\n",
    "for file_name in tqdm(file_names):\n",
    "    f = h5py.File(f'{PATH_DATASET}/{file_name}', 'r')\n",
    "\n",
    "    X, Y = np.array(f['raw']), np.array(f['label'])\n",
    "\n",
    "    if CENTER_CUBE_ONLY: # only keep the center cube (over 9 candidates)\n",
    "        X = X[:,CROP:2*CROP,CROP:2*CROP]\n",
    "        Y = Y[:,CROP:2*CROP,CROP:2*CROP]\n",
    "\n",
    "        raw_data.append(X)\n",
    "        labels.append(Y)\n",
    "        names.append(file_name)\n",
    "\n",
    "    else: # keep all = more data\n",
    "        X_patches = patchify(X, (64, 64, 64), step=64)  # Step=64 for 64 patches means no overlap\n",
    "        X_patches_resh = np.reshape(X_patches, (-1, X_patches.shape[3], X_patches.shape[4], X_patches.shape[5]))\n",
    "        Y_patches = patchify(Y, (64, 64, 64), step=64)  # Step=64 for 64 patches means no overlap\n",
    "        Y_patches_resh = np.reshape(Y_patches, (-1, Y_patches.shape[3], Y_patches.shape[4], Y_patches.shape[5]))\n",
    "        raw_data.append(X_patches_resh)\n",
    "        labels.append(Y_patches_resh)\n",
    "        names.append(file_name)\n",
    "\n",
    "# convert to arrays for patchify\n",
    "raw_data = np.array(raw_data)\n",
    "labels = np.array(labels)\n",
    "\n",
    "if not CENTER_CUBE_ONLY: # only keep the center cube (over 9 candidates)\n",
    "    raw_data = np.reshape(raw_data, (-1, raw_data.shape[2], raw_data.shape[3], raw_data.shape[4]))\n",
    "    labels = np.reshape(labels, (-1, labels.shape[2], labels.shape[3], labels.shape[4]))\n",
    "\n",
    "# check shapes\n",
    "print(raw_data.shape)\n",
    "print(labels.shape)"
   ]
  },
  {
   "cell_type": "code",
   "execution_count": 99,
   "metadata": {},
   "outputs": [],
   "source": [
    "data_gen_params = dict(\n",
    "            validation_split=VAL_SPLIT,\n",
    "            rotation_range=180,\n",
    "            width_shift_range=0.3,\n",
    "            height_shift_range=0.3,\n",
    "            zoom_range=0.5,\n",
    "            horizontal_flip=True,\n",
    "            vertical_flip=True,\n",
    "            fill_mode='nearest',\n",
    "            data_format='channels_first'\n",
    "            # shear_range=45, # in degrees counterclockwise\n",
    "        )\n",
    "\n",
    "data_gen = ImageDataGenerator(**data_gen_params)"
   ]
  },
  {
   "cell_type": "code",
   "execution_count": 111,
   "metadata": {},
   "outputs": [
    {
     "data": {
      "image/png": "[encoded data removed]",
      "text/plain": [
       "<Figure size 1440x720 with 4 Axes>"
      ]
     },
     "metadata": {
      "needs_background": "light"
     },
     "output_type": "display_data"
    }
   ],
   "source": [
    "BATCH_SIZE = 2\n",
    "SEED = 1234\n",
    "ID = 4\n",
    "\n",
    "IMG_SHAPE = (64, 64, 64)\n",
    "SLICE = 32\n",
    "\n",
    "img = raw_data[ID]\n",
    "lbl = labels[ID]\n",
    "\n",
    "transform = data_gen.get_random_transform(img_shape=IMG_SHAPE)\n",
    "img_augmented = data_gen.apply_transform(img, transform)\n",
    "lbl_augmented = data_gen.apply_transform(lbl, transform)\n",
    "\n",
    "image = img[SLICE]\n",
    "image_processed = img_augmented[SLICE]\n",
    "lbl = lbl[SLICE]\n",
    "lbl_augmented = lbl_augmented[SLICE]\n",
    "\n",
    "plt.figure(figsize=(20, 10))\n",
    "plt.subplot(141)\n",
    "plt.imshow(image)\n",
    "plt.subplot(142)\n",
    "plt.imshow(image_processed)\n",
    "plt.subplot(143)\n",
    "plt.imshow(lbl)\n",
    "plt.subplot(144)\n",
    "plt.imshow(lbl_augmented)\n",
    "plt.show()"
   ]
  },
  {
   "cell_type": "code",
   "execution_count": null,
   "metadata": {},
   "outputs": [],
   "source": []
  }
 ],
 "metadata": {
  "kernelspec": {
   "display_name": "lm2",
   "language": "python",
   "name": "python3"
  },
  "language_info": {
   "codemirror_mode": {
    "name": "ipython",
    "version": 3
   },
   "file_extension": ".py",
   "mimetype": "text/x-python",
   "name": "python",
   "nbconvert_exporter": "python",
   "pygments_lexer": "ipython3",
   "version": "3.8.13"
  },
  "orig_nbformat": 4,
  "vscode": {
   "interpreter": {
    "hash": "ef3dd97f72c7de1b6cf4acbe3ecc775b9ffc9904b79c9969b32a495aa0a05a59"
   }
  }
 },
 "nbformat": 4,
 "nbformat_minor": 2
}
