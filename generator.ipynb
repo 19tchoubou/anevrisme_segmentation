{
 "cells": [
  {
   "cell_type": "markdown",
   "metadata": {},
   "source": [
    "# Data Generator\n"
   ]
  },
  {
   "cell_type": "markdown",
   "metadata": {},
   "source": [
    "Tout est caché dans utils.py et a fonction `instantiate_generator`."
   ]
  },
  {
   "cell_type": "code",
   "execution_count": 1,
   "metadata": {},
   "outputs": [
    {
     "name": "stderr",
     "output_type": "stream",
     "text": [
      "2022-10-30 17:25:49.541177: I tensorflow/core/platform/cpu_feature_guard.cc:193] This TensorFlow binary is optimized with oneAPI Deep Neural Network Library (oneDNN) to use the following CPU instructions in performance-critical operations:  AVX2 FMA\n",
      "To enable them in other operations, rebuild TensorFlow with the appropriate compiler flags.\n",
      "2022-10-30 17:25:50.178891: W tensorflow/stream_executor/platform/default/dso_loader.cc:64] Could not load dynamic library 'libcudart.so.11.0'; dlerror: libcudart.so.11.0: cannot open shared object file: No such file or directory\n",
      "2022-10-30 17:25:50.178911: I tensorflow/stream_executor/cuda/cudart_stub.cc:29] Ignore above cudart dlerror if you do not have a GPU set up on your machine.\n",
      "2022-10-30 17:25:50.357262: E tensorflow/stream_executor/cuda/cuda_blas.cc:2981] Unable to register cuBLAS factory: Attempting to register factory for plugin cuBLAS when one has already been registered\n",
      "2022-10-30 17:25:52.071263: W tensorflow/stream_executor/platform/default/dso_loader.cc:64] Could not load dynamic library 'libnvinfer.so.7'; dlerror: libnvinfer.so.7: cannot open shared object file: No such file or directory\n",
      "2022-10-30 17:25:52.071394: W tensorflow/stream_executor/platform/default/dso_loader.cc:64] Could not load dynamic library 'libnvinfer_plugin.so.7'; dlerror: libnvinfer_plugin.so.7: cannot open shared object file: No such file or directory\n",
      "2022-10-30 17:25:52.071404: W tensorflow/compiler/tf2tensorrt/utils/py_utils.cc:38] TF-TRT Warning: Cannot dlopen some TensorRT libraries. If you would like to use Nvidia GPU with TensorRT, please make sure the missing libraries mentioned above are installed properly.\n"
     ]
    },
    {
     "name": "stdout",
     "output_type": "stream",
     "text": [
      "Dataset found on device at : './challenge_dataset/.'\n"
     ]
    },
    {
     "name": "stderr",
     "output_type": "stream",
     "text": [
      "2022-10-30 17:25:56.354515: W tensorflow/stream_executor/platform/default/dso_loader.cc:64] Could not load dynamic library 'libcuda.so.1'; dlerror: libcuda.so.1: cannot open shared object file: No such file or directory\n",
      "2022-10-30 17:25:56.354570: W tensorflow/stream_executor/cuda/cuda_driver.cc:263] failed call to cuInit: UNKNOWN ERROR (303)\n",
      "2022-10-30 17:25:56.354593: I tensorflow/stream_executor/cuda/cuda_diagnostics.cc:156] kernel driver does not appear to be running on this host (DESKTOP-IN2P6PG): /proc/driver/nvidia/version does not exist\n",
      "2022-10-30 17:25:56.354977: I tensorflow/core/platform/cpu_feature_guard.cc:193] This TensorFlow binary is optimized with oneAPI Deep Neural Network Library (oneDNN) to use the following CPU instructions in performance-critical operations:  AVX2 FMA\n",
      "To enable them in other operations, rebuild TensorFlow with the appropriate compiler flags.\n"
     ]
    }
   ],
   "source": [
    "from utils import instantiate_generator\n",
    "\n",
    "train_data_pipeline, val_data_pipeline = instantiate_generator(train_size=0.8, batch_size = 4)"
   ]
  },
  {
   "cell_type": "code",
   "execution_count": 2,
   "metadata": {},
   "outputs": [
    {
     "name": "stdout",
     "output_type": "stream",
     "text": [
      "Train batches\n",
      "raw (4, 64, 192, 192)\n",
      "label (4, 64, 192, 192)\n",
      "raw (4, 64, 192, 192)\n",
      "label (4, 64, 192, 192)\n",
      "raw (4, 64, 192, 192)\n",
      "label (4, 64, 192, 192)\n",
      "raw (4, 64, 192, 192)\n",
      "label (4, 64, 192, 192)\n",
      "raw (4, 64, 192, 192)\n",
      "label (4, 64, 192, 192)\n",
      "raw (4, 64, 192, 192)\n",
      "label (4, 64, 192, 192)\n",
      "raw (4, 64, 192, 192)\n",
      "label (4, 64, 192, 192)\n",
      "raw (4, 64, 192, 192)\n",
      "label (4, 64, 192, 192)\n",
      "raw (4, 64, 192, 192)\n",
      "label (4, 64, 192, 192)\n",
      "raw (4, 64, 192, 192)\n",
      "label (4, 64, 192, 192)\n",
      "raw (4, 64, 192, 192)\n",
      "label (4, 64, 192, 192)\n",
      "raw (4, 64, 192, 192)\n",
      "label (4, 64, 192, 192)\n",
      "raw (4, 64, 192, 192)\n",
      "label (4, 64, 192, 192)\n",
      "raw (4, 64, 192, 192)\n",
      "label (4, 64, 192, 192)\n",
      "raw (4, 64, 192, 192)\n",
      "label (4, 64, 192, 192)\n",
      "raw (4, 64, 192, 192)\n",
      "label (4, 64, 192, 192)\n",
      "raw (4, 64, 192, 192)\n",
      "label (4, 64, 192, 192)\n",
      "raw (4, 64, 192, 192)\n",
      "label (4, 64, 192, 192)\n",
      "raw (4, 64, 192, 192)\n",
      "label (4, 64, 192, 192)\n",
      "raw (4, 64, 192, 192)\n",
      "label (4, 64, 192, 192)\n",
      "raw (2, 64, 192, 192)\n",
      "label (2, 64, 192, 192)\n",
      "Validation batches\n",
      "raw (4, 64, 192, 192)\n",
      "label (4, 64, 192, 192)\n",
      "raw (4, 64, 192, 192)\n",
      "label (4, 64, 192, 192)\n",
      "raw (4, 64, 192, 192)\n",
      "label (4, 64, 192, 192)\n",
      "raw (4, 64, 192, 192)\n",
      "label (4, 64, 192, 192)\n",
      "raw (4, 64, 192, 192)\n",
      "label (4, 64, 192, 192)\n",
      "raw (1, 64, 192, 192)\n",
      "label (1, 64, 192, 192)\n"
     ]
    }
   ],
   "source": [
    "print(\"Train batches\")\n",
    "for item in train_data_pipeline:\n",
    "    raws = item[0]\n",
    "    labels = item[1]\n",
    "    print(\"raw\", raws.shape) \n",
    "    print(\"label\", labels.shape)\n",
    "\n",
    "print(\"Validation batches\")\n",
    "for item in val_data_pipeline:\n",
    "    raws = item[0]\n",
    "    labels = item[1]\n",
    "    print(\"raw\", raws.shape) \n",
    "    print(\"label\", labels.shape)\n"
   ]
  },
  {
   "cell_type": "code",
   "execution_count": null,
   "metadata": {},
   "outputs": [],
   "source": []
  }
 ],
 "metadata": {
  "kernelspec": {
   "display_name": "Python 3.8.10 64-bit",
   "language": "python",
   "name": "python3"
  },
  "language_info": {
   "codemirror_mode": {
    "name": "ipython",
    "version": 3
   },
   "file_extension": ".py",
   "mimetype": "text/x-python",
   "name": "python",
   "nbconvert_exporter": "python",
   "pygments_lexer": "ipython3",
   "version": "3.8.10"
  },
  "orig_nbformat": 4,
  "vscode": {
   "interpreter": {
    "hash": "916dbcbb3f70747c44a77c7bcd40155683ae19c65e1c03b4aa3499c5328201f1"
   }
  }
 },
 "nbformat": 4,
 "nbformat_minor": 2
}
