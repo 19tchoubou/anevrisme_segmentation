{
 "cells": [
  {
   "cell_type": "markdown",
   "metadata": {},
   "source": [
    "# Data Generator\n"
   ]
  },
  {
   "cell_type": "markdown",
   "metadata": {},
   "source": [
    "Tout est caché dans utils.py et a fonction `instantiate_generator`."
   ]
  },
  {
   "cell_type": "code",
   "execution_count": 10,
   "metadata": {},
   "outputs": [
    {
     "name": "stdout",
     "output_type": "stream",
     "text": [
      "Dataset found on device at : './challenge_dataset/.'\n"
     ]
    }
   ],
   "source": [
    "from utils import instantiate_generator\n",
    "\n",
    "train_data_pipeline, val_data_pipeline = instantiate_generator(train_size=0.8)"
   ]
  },
  {
   "cell_type": "code",
   "execution_count": null,
   "metadata": {},
   "outputs": [
    {
     "name": "stderr",
     "output_type": "stream",
     "text": [
      "2022-10-28 12:19:15.946174: W tensorflow/core/framework/cpu_allocator_impl.cc:82] Allocation of 150994944 exceeds 10% of free system memory.\n"
     ]
    },
    {
     "name": "stdout",
     "output_type": "stream",
     "text": [
      "raw (16, 64, 192, 192)\n",
      "label (16, 64, 192, 192)\n"
     ]
    },
    {
     "name": "stderr",
     "output_type": "stream",
     "text": [
      "2022-10-28 12:19:28.901604: W tensorflow/core/framework/cpu_allocator_impl.cc:82] Allocation of 150994944 exceeds 10% of free system memory.\n"
     ]
    },
    {
     "name": "stdout",
     "output_type": "stream",
     "text": [
      "raw (16, 64, 192, 192)\n",
      "label (16, 64, 192, 192)\n"
     ]
    },
    {
     "name": "stderr",
     "output_type": "stream",
     "text": [
      "2022-10-28 12:19:29.470694: W tensorflow/core/framework/cpu_allocator_impl.cc:82] Allocation of 150994944 exceeds 10% of free system memory.\n"
     ]
    },
    {
     "name": "stdout",
     "output_type": "stream",
     "text": [
      "raw (16, 64, 192, 192)\n",
      "label (16, 64, 192, 192)\n"
     ]
    },
    {
     "name": "stderr",
     "output_type": "stream",
     "text": [
      "2022-10-28 12:19:31.180007: W tensorflow/core/framework/cpu_allocator_impl.cc:82] Allocation of 150994944 exceeds 10% of free system memory.\n"
     ]
    },
    {
     "name": "stdout",
     "output_type": "stream",
     "text": [
      "raw (16, 64, 192, 192)\n",
      "label (16, 64, 192, 192)\n",
      "raw (16, 64, 192, 192)\n",
      "label (16, 64, 192, 192)\n",
      "raw (2, 64, 192, 192)\n",
      "label (2, 64, 192, 192)\n",
      "raw (16, 64, 192, 192)\n",
      "label (16, 64, 192, 192)\n",
      "raw (5, 64, 192, 192)\n",
      "label (5, 64, 192, 192)\n"
     ]
    }
   ],
   "source": [
    "for item in train_data_pipeline:\n",
    "    raws = item[0]\n",
    "    labels = item[1]\n",
    "    print(\"raw\", raws.shape) \n",
    "    print(\"label\", labels.shape)\n",
    "\n",
    "for item in val_data_pipeline:\n",
    "    raws = item[0]\n",
    "    labels = item[1]\n",
    "    print(\"raw\", raws.shape) \n",
    "    print(\"label\", labels.shape)\n"
   ]
  }
 ],
 "metadata": {
  "kernelspec": {
   "display_name": "Python 3.8.10 64-bit",
   "language": "python",
   "name": "python3"
  },
  "language_info": {
   "codemirror_mode": {
    "name": "ipython",
    "version": 3
   },
   "file_extension": ".py",
   "mimetype": "text/x-python",
   "name": "python",
   "nbconvert_exporter": "python",
   "pygments_lexer": "ipython3",
   "version": "3.8.10"
  },
  "orig_nbformat": 4,
  "vscode": {
   "interpreter": {
    "hash": "916dbcbb3f70747c44a77c7bcd40155683ae19c65e1c03b4aa3499c5328201f1"
   }
  }
 },
 "nbformat": 4,
 "nbformat_minor": 2
}
