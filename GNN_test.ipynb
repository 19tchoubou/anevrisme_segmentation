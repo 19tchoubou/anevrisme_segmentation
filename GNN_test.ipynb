{
 "cells": [
  {
   "cell_type": "code",
   "execution_count": 2,
   "metadata": {},
   "outputs": [],
   "source": [
    "import torch\n",
    "from torch_geometric.data import Data\n",
    "\n",
    "\n",
    "edge_index = torch.tensor([[0, 1, 1, 2],\n",
    "                           [1, 0, 2, 1]], dtype=torch.long)\n",
    "x = torch.tensor([[-1], [0], [1]], dtype=torch.float)\n",
    "edge_weight = torch.tensor([1, 1, 0, 0])\n",
    "train_mask = torch.tensor([True, False, False])\n",
    "data = Data(x=x, edge_index=edge_index, edge_weight=edge_weight, train_mask=train_mask)"
   ]
  },
  {
   "cell_type": "code",
   "execution_count": 3,
   "metadata": {},
   "outputs": [],
   "source": [
    "# function that maps (64, 192, 192) -> [0, 2359295]\n",
    "shape = (48, 48, 48)\n",
    "def volume_to_graph(i,j,k, shape=shape):\n",
    "    z, y, x = shape\n",
    "    return k + y * j + y * x * i\n",
    "\n",
    "def graph_to_volume(idx, shape=shape):\n",
    "    z, y, x = shape\n",
    "    i, r = divmod(idx, y * x)\n",
    "    j, k = divmod(r, y)\n",
    "    return (i,j,k)\n",
    "\n",
    "def correct_edge(i,j,k, shape=shape):\n",
    "    z, y, x = shape\n",
    "    return (0 <= i < z) and (0 <= j < y) and (0 <= k < x)"
   ]
  },
  {
   "cell_type": "code",
   "execution_count": 4,
   "metadata": {},
   "outputs": [
    {
     "data": {
      "text/plain": [
       "(0, 0, 2)"
      ]
     },
     "execution_count": 4,
     "metadata": {},
     "output_type": "execute_result"
    }
   ],
   "source": [
    "volume_to_graph(0, 1, 2, shape=shape)\n",
    "graph_to_volume(2)"
   ]
  },
  {
   "cell_type": "code",
   "execution_count": 5,
   "metadata": {},
   "outputs": [
    {
     "data": {
      "text/plain": [
       "(21, 2, 2)"
      ]
     },
     "execution_count": 5,
     "metadata": {},
     "output_type": "execute_result"
    }
   ],
   "source": [
    "graph_to_volume(volume_to_graph(21, 1, 50, shape=shape), shape=shape)"
   ]
  },
  {
   "cell_type": "code",
   "execution_count": 6,
   "metadata": {},
   "outputs": [
    {
     "name": "stdout",
     "output_type": "stream",
     "text": [
      "done !\n"
     ]
    }
   ],
   "source": [
    "x = -1\n",
    "for i in range(shape[0]):\n",
    "    for j in range(shape[1]):\n",
    "        for k in range(shape[2]):\n",
    "            assert graph_to_volume(volume_to_graph(i,j,k, shape=shape), shape=shape) == (i,j,k)\n",
    "            assert correct_edge(i,j,k, shape=shape)\n",
    "print(\"done !\")"
   ]
  },
  {
   "cell_type": "code",
   "execution_count": 120,
   "metadata": {},
   "outputs": [
    {
     "data": {
      "text/plain": [
       "0.046875"
      ]
     },
     "execution_count": 120,
     "metadata": {},
     "output_type": "execute_result"
    }
   ],
   "source": [
    "3/64"
   ]
  },
  {
   "cell_type": "code",
   "execution_count": 119,
   "metadata": {},
   "outputs": [
    {
     "data": {
      "text/plain": [
       "0.036458333333333336"
      ]
     },
     "execution_count": 119,
     "metadata": {},
     "output_type": "execute_result"
    }
   ],
   "source": [
    "7 / 192"
   ]
  },
  {
   "cell_type": "code",
   "execution_count": 138,
   "metadata": {},
   "outputs": [],
   "source": [
    "from math import exp\n",
    "\n",
    "sigma = 0.04\n",
    "edge_index0 = []\n",
    "edge_index1 = []\n",
    "edge_weight = []\n",
    "for i in range(shape[0]):\n",
    "    for j in range(shape[1]):\n",
    "        for k in range(shape[2]):\n",
    "            new_edges = [(i, j+1, k), (i, j, k+1), (i, j-1, k), (i, j, k-1), \n",
    "                            #(i, j+2, k), (i, j, k+2), (i, j-2, k), (i, j, k-2), \n",
    "                            #(i, j+1, k+1), (i, j-1, k+1), (i, j-1, k+1), (i, j-1, k-1), \n",
    "                            (i-1, j, k), (i+1, j, k)]\n",
    "            new_edges_weight = 4*[exp(-(7/192)**2 / (2 *sigma**2))] + 2*[exp(-(3/64)**2 / (2 *sigma**2))] # + 4*[exp(-(0.3**2 + 0.3**2) / (2 *sigma**2))] + 2*[exp(-0.7**2 / (2 *sigma**2))]\n",
    "            \n",
    "            current_v = volume_to_graph(i,j,k)\n",
    "            for coord, weight in zip(new_edges, new_edges_weight):\n",
    "                if correct_edge(*coord):\n",
    "                    edge_index0.append(current_v)\n",
    "                    edge_index1.append(volume_to_graph(*coord))\n",
    "                    edge_weight.append(weight)\n"
   ]
  },
  {
   "cell_type": "code",
   "execution_count": 139,
   "metadata": {},
   "outputs": [
    {
     "data": {
      "text/plain": [
       "1497792"
      ]
     },
     "execution_count": 139,
     "metadata": {},
     "output_type": "execute_result"
    }
   ],
   "source": [
    "shape[0] * shape[1] * shape[2] * 14 - 2*shape[1]*shape[2] - 2*(shape[1] + shape[2])*shape[0] - (2*(shape[1] + shape[2])*4 - 4)*shape[0]"
   ]
  },
  {
   "cell_type": "code",
   "execution_count": 140,
   "metadata": {},
   "outputs": [
    {
     "data": {
      "text/plain": [
       "False"
      ]
     },
     "execution_count": 140,
     "metadata": {},
     "output_type": "execute_result"
    }
   ],
   "source": [
    "len(edge_index0) == len(edge_index1) == len(edge_weight)== shape[0] * shape[1] * shape[2] * 14 - 2*shape[1]*shape[2] - 2*(shape[1] + shape[2])*shape[0] - (2*(shape[1] + shape[2])*4 - 4)*shape[0]"
   ]
  },
  {
   "cell_type": "code",
   "execution_count": 141,
   "metadata": {},
   "outputs": [],
   "source": [
    "edge_index = torch.tensor([edge_index0,\n",
    "                           edge_index1], dtype=torch.long)\n",
    "edge_weight = torch.tensor(edge_weight, dtype=torch.float)"
   ]
  },
  {
   "cell_type": "code",
   "execution_count": 142,
   "metadata": {},
   "outputs": [],
   "source": [
    "import numpy as np\n",
    "\n",
    "def crop(x,y,crop_size=shape[0]):\n",
    "\n",
    "    crop_x, crop_y = np.zeros((crop_size, crop_size, crop_size)), np.zeros((crop_size, crop_size, crop_size))\n",
    "\n",
    "    aneurysm_indexes = np.nonzero(y)\n",
    "\n",
    "    z_min, z_max = aneurysm_indexes[0].min(), aneurysm_indexes[0].max()\n",
    "    x_min, x_max = aneurysm_indexes[1].min(), aneurysm_indexes[1].max()\n",
    "    y_min, y_max = aneurysm_indexes[2].min(), aneurysm_indexes[2].max()\n",
    "\n",
    "    #print(z_min, z_max, x_min, x_max, y_min, y_max)\n",
    "\n",
    "    z_init = (x.shape[0] - crop_size) // 2 #np.random.randint(max(0, z_max - crop_size), max(max(0, z_max - crop_size) + 1, min(z_min + 1, x.shape[0] - crop_size)))\n",
    "    y_init = (x.shape[2] - crop_size) // 2 #np.random.randint(max(0, y_max - crop_size), max(max(0, y_max - crop_size) + 1, min(y_min + 1, x.shape[2] - crop_size)))\n",
    "    x_init = (x.shape[1] - crop_size) // 2 #np.random.randint(max(0, x_max - crop_size), max(max(0, x_max - crop_size) + 1, min(x_min + 1, x.shape[1] - crop_size)))\n",
    "\n",
    "    #print(x.shape)\n",
    "\n",
    "    crop_x = x[z_init: z_init + crop_size, x_init: x_init + crop_size, y_init : y_init + crop_size]\n",
    "    crop_y = y[z_init: z_init + crop_size, x_init: x_init + crop_size, y_init : y_init + crop_size]\n",
    "\n",
    "    return crop_x, crop_y\n",
    "\n",
    "        "
   ]
  },
  {
   "cell_type": "code",
   "execution_count": 143,
   "metadata": {},
   "outputs": [],
   "source": [
    "from collections import deque\n",
    "\n",
    "def BFS(mat, edges, processed, i):\n",
    " \n",
    "    # créer une file d'attente vide et mettre en file d'attente le nœud source\n",
    "    q = deque()\n",
    "    q.append(i)\n",
    " \n",
    "    # marquer le nœud source comme traité\n",
    "    processed[i] = 1\n",
    " \n",
    "    # Boucle # jusqu'à ce que la Queue soit vide\n",
    "    while q:\n",
    "        # retirer de la file d'attente le nœud frontal et le traiter\n",
    "        x = q.popleft()\n",
    " \n",
    "        # vérifie les huit mouvements possibles à partir de la cellule actuelle\n",
    "        # et mettre en file d'attente chaque mouvement valide\n",
    "        valid_edges = torch.argwhere(edges[0] == x)\n",
    "        for edge in valid_edges:\n",
    "            y = edges[1, edge]\n",
    "            # sauter si l'emplacement est invalide, ou déjà traité, ou a de l'eau\n",
    "            if processed[y] == 0 and mat[y] == True:\n",
    "                # sauter si l'emplacement est invalide, ou il est déjà\n",
    "                # traité ou composé d'eau\n",
    "                processed[y] = 1\n",
    "                q.append(y)\n",
    " "
   ]
  },
  {
   "cell_type": "code",
   "execution_count": 144,
   "metadata": {},
   "outputs": [],
   "source": [
    "\n",
    "import torch\n",
    "import torch.nn as nn\n",
    "import torch.nn.functional as F\n",
    "import numpy as np\n",
    "\n",
    "def make_one_hot(input, num_classes):\n",
    "    \"\"\"Convert class index tensor to one hot encoding tensor.\n",
    "    Args:\n",
    "         input: A tensor of shape [N, 1, *]\n",
    "         num_classes: An int of number of class\n",
    "    Returns:\n",
    "        A tensor of shape [N, num_classes, *]\n",
    "    \"\"\"\n",
    "    shape = np.array(input.shape)\n",
    "    shape[1] = num_classes\n",
    "    shape = tuple(shape)\n",
    "    result = torch.zeros(shape)\n",
    "    result = result.scatter_(1, input.cpu(), 1)\n",
    "\n",
    "    return result\n"
   ]
  },
  {
   "cell_type": "code",
   "execution_count": 163,
   "metadata": {},
   "outputs": [
    {
     "name": "stdout",
     "output_type": "stream",
     "text": [
      "empty interior for  scan_6.h5\n",
      "surely 2 aneurysms for  scan_26.h5\n",
      "empty interior for  scan_51.h5\n",
      "empty interior for  scan_19.h5\n"
     ]
    },
    {
     "ename": "KeyboardInterrupt",
     "evalue": "",
     "output_type": "error",
     "traceback": [
      "\u001b[0;31m---------------------------------------------------------------------------\u001b[0m",
      "\u001b[0;31mKeyboardInterrupt\u001b[0m                         Traceback (most recent call last)",
      "Cell \u001b[0;32mIn [163], line 19\u001b[0m\n\u001b[1;32m     16\u001b[0m \u001b[39mfor\u001b[39;00m file_name \u001b[39min\u001b[39;00m file_names:\n\u001b[1;32m     17\u001b[0m     f \u001b[39m=\u001b[39m h5py\u001b[39m.\u001b[39mFile(\u001b[39mf\u001b[39m\u001b[39m'\u001b[39m\u001b[39m{\u001b[39;00mPATH_DATASET\u001b[39m}\u001b[39;00m\u001b[39m/\u001b[39m\u001b[39m{\u001b[39;00mfile_name\u001b[39m}\u001b[39;00m\u001b[39m'\u001b[39m, \u001b[39m'\u001b[39m\u001b[39mr\u001b[39m\u001b[39m'\u001b[39m)\n\u001b[0;32m---> 19\u001b[0m     X, Y \u001b[39m=\u001b[39m np\u001b[39m.\u001b[39;49marray(f[\u001b[39m'\u001b[39;49m\u001b[39mraw\u001b[39;49m\u001b[39m'\u001b[39;49m]), np\u001b[39m.\u001b[39marray(f[\u001b[39m'\u001b[39m\u001b[39mlabel\u001b[39m\u001b[39m'\u001b[39m])\n\u001b[1;32m     21\u001b[0m     X, Y \u001b[39m=\u001b[39m crop(X, Y, \u001b[39m48\u001b[39m)\n\u001b[1;32m     23\u001b[0m     flat_X \u001b[39m=\u001b[39m X\u001b[39m.\u001b[39mflatten()\u001b[39m.\u001b[39mreshape((\u001b[39m-\u001b[39m\u001b[39m1\u001b[39m, \u001b[39m1\u001b[39m))\u001b[39m.\u001b[39mastype(\u001b[39mfloat\u001b[39m)\n",
      "File \u001b[0;32mh5py/_objects.pyx:54\u001b[0m, in \u001b[0;36mh5py._objects.with_phil.wrapper\u001b[0;34m()\u001b[0m\n",
      "File \u001b[0;32mh5py/_objects.pyx:55\u001b[0m, in \u001b[0;36mh5py._objects.with_phil.wrapper\u001b[0;34m()\u001b[0m\n",
      "File \u001b[0;32m~/.local/lib/python3.8/site-packages/h5py/_hl/dataset.py:1046\u001b[0m, in \u001b[0;36mDataset.__array__\u001b[0;34m(self, dtype)\u001b[0m\n\u001b[1;32m   1043\u001b[0m \u001b[39mif\u001b[39;00m numpy\u001b[39m.\u001b[39mproduct(\u001b[39mself\u001b[39m\u001b[39m.\u001b[39mshape, dtype\u001b[39m=\u001b[39mnumpy\u001b[39m.\u001b[39mulonglong) \u001b[39m==\u001b[39m \u001b[39m0\u001b[39m:\n\u001b[1;32m   1044\u001b[0m     \u001b[39mreturn\u001b[39;00m arr\n\u001b[0;32m-> 1046\u001b[0m \u001b[39mself\u001b[39;49m\u001b[39m.\u001b[39;49mread_direct(arr)\n\u001b[1;32m   1047\u001b[0m \u001b[39mreturn\u001b[39;00m arr\n",
      "File \u001b[0;32m~/.local/lib/python3.8/site-packages/h5py/_hl/dataset.py:1007\u001b[0m, in \u001b[0;36mDataset.read_direct\u001b[0;34m(self, dest, source_sel, dest_sel)\u001b[0m\n\u001b[1;32m   1004\u001b[0m     dest_sel \u001b[39m=\u001b[39m sel\u001b[39m.\u001b[39mselect(dest\u001b[39m.\u001b[39mshape, dest_sel)\n\u001b[1;32m   1006\u001b[0m \u001b[39mfor\u001b[39;00m mspace \u001b[39min\u001b[39;00m dest_sel\u001b[39m.\u001b[39mbroadcast(source_sel\u001b[39m.\u001b[39marray_shape):\n\u001b[0;32m-> 1007\u001b[0m     \u001b[39mself\u001b[39;49m\u001b[39m.\u001b[39;49mid\u001b[39m.\u001b[39;49mread(mspace, fspace, dest, dxpl\u001b[39m=\u001b[39;49m\u001b[39mself\u001b[39;49m\u001b[39m.\u001b[39;49m_dxpl)\n",
      "\u001b[0;31mKeyboardInterrupt\u001b[0m: "
     ]
    }
   ],
   "source": [
    "import os\n",
    "import h5py\n",
    "import numpy as np\n",
    "\n",
    "# get file names in the folder\n",
    "PATH_DATASET = 'challenge_dataset'\n",
    "\n",
    "file_names = os.listdir(PATH_DATASET)\n",
    "N = len(file_names)\n",
    "\n",
    "# ## Raw Data and labels\n",
    "\n",
    "dataset = []\n",
    "names = []\n",
    "\n",
    "for file_name in file_names:\n",
    "    f = h5py.File(f'{PATH_DATASET}/{file_name}', 'r')\n",
    "\n",
    "    X, Y = np.array(f['raw']), np.array(f['label'])\n",
    "\n",
    "    X, Y = crop(X, Y, 48)\n",
    "    \n",
    "    flat_X = X.flatten().reshape((-1, 1)).astype(float)\n",
    "    x = torch.from_numpy(flat_X) / 255.\n",
    "\n",
    "    y = torch.from_numpy(Y.astype(int))\n",
    "\n",
    "    aneurysms = np.nonzero(Y)\n",
    "    if len(aneurysms[0]) == 0:\n",
    "        print(\"no label for \", file_name)\n",
    "        continue\n",
    "    i, j, k = np.mean(aneurysms[0]), np.mean(aneurysms[1]), np.mean(aneurysms[2])\n",
    "    i, j, k = int(i), int(j), int(k)\n",
    "    if Y[i,j,k] != 1:\n",
    "        print(\"surely 2 aneurysms for \", file_name)\n",
    "        continue\n",
    "\n",
    "    central_aneurysm = np.zeros_like(Y.flatten(), dtype=int)\n",
    "    \n",
    "    BFS(Y.flatten(), edge_index, central_aneurysm, volume_to_graph(i,j,k))\n",
    "\n",
    "    central_aneurysm = torch.from_numpy(central_aneurysm)\n",
    "\n",
    "    aneurysms = np.nonzero(central_aneurysm.numpy().reshape(Y.shape))\n",
    "\n",
    "    i, j, k = np.mean(aneurysms[0]), np.mean(aneurysms[1]), np.mean(aneurysms[2])\n",
    "    i, j, k = int(i), int(j), int(k)\n",
    "    if Y[i,j,k] != 1:\n",
    "        print(\"euh bug \", file_name)\n",
    "        continue\n",
    "\n",
    "    height_erosion = (y.roll(1,0) + y + y.roll(-1,0) == 3)\n",
    "    x_erosion = (torch.roll(y, 1 ,1) + y + torch.roll(y, shifts=(-1), dims=(1)) == 3)\n",
    "    y_erosion = (y.roll(1,2) + y + y.roll(-1,2) == 3)\n",
    "    erosion_mask = torch.logical_and(torch.logical_and(height_erosion, x_erosion), y_erosion).flatten().reshape((-1, 1)).float()\n",
    "    \n",
    "    center_mask = torch.zeros_like(erosion_mask, dtype=float) - 1.\n",
    "    center_mask[volume_to_graph(i,j,k)] = 1\n",
    "    y = y.flatten()\n",
    "    if erosion_mask.sum() == 0:\n",
    "        print(\"empty interior for \", file_name)\n",
    "        continue\n",
    "    train_mask = torch.tensor(flat_X.size * [True], dtype=bool)\n",
    "    data = Data(x=torch.column_stack([x, center_mask]), edge_index=edge_index, edge_weight=edge_weight, train_mask=train_mask, y=make_one_hot(central_aneurysm.reshape(-1,1), num_classes=2))\n",
    "    dataset.append(data)\n",
    "    names.append(file_name)"
   ]
  },
  {
   "cell_type": "code",
   "execution_count": null,
   "metadata": {},
   "outputs": [
    {
     "data": {
      "text/plain": [
       "91"
      ]
     },
     "execution_count": 146,
     "metadata": {},
     "output_type": "execute_result"
    }
   ],
   "source": [
    "len(dataset)"
   ]
  },
  {
   "cell_type": "code",
   "execution_count": null,
   "metadata": {},
   "outputs": [
    {
     "data": {
      "text/plain": [
       "[Data(x=[110592, 2], edge_index=[2, 649728], y=[110592, 2], edge_weight=[649728], train_mask=[110592]),\n",
       " Data(x=[110592, 2], edge_index=[2, 649728], y=[110592, 2], edge_weight=[649728], train_mask=[110592]),\n",
       " Data(x=[110592, 2], edge_index=[2, 649728], y=[110592, 2], edge_weight=[649728], train_mask=[110592]),\n",
       " Data(x=[110592, 2], edge_index=[2, 649728], y=[110592, 2], edge_weight=[649728], train_mask=[110592]),\n",
       " Data(x=[110592, 2], edge_index=[2, 649728], y=[110592, 2], edge_weight=[649728], train_mask=[110592]),\n",
       " Data(x=[110592, 2], edge_index=[2, 649728], y=[110592, 2], edge_weight=[649728], train_mask=[110592]),\n",
       " Data(x=[110592, 2], edge_index=[2, 649728], y=[110592, 2], edge_weight=[649728], train_mask=[110592]),\n",
       " Data(x=[110592, 2], edge_index=[2, 649728], y=[110592, 2], edge_weight=[649728], train_mask=[110592]),\n",
       " Data(x=[110592, 2], edge_index=[2, 649728], y=[110592, 2], edge_weight=[649728], train_mask=[110592]),\n",
       " Data(x=[110592, 2], edge_index=[2, 649728], y=[110592, 2], edge_weight=[649728], train_mask=[110592]),\n",
       " Data(x=[110592, 2], edge_index=[2, 649728], y=[110592, 2], edge_weight=[649728], train_mask=[110592]),\n",
       " Data(x=[110592, 2], edge_index=[2, 649728], y=[110592, 2], edge_weight=[649728], train_mask=[110592]),\n",
       " Data(x=[110592, 2], edge_index=[2, 649728], y=[110592, 2], edge_weight=[649728], train_mask=[110592]),\n",
       " Data(x=[110592, 2], edge_index=[2, 649728], y=[110592, 2], edge_weight=[649728], train_mask=[110592]),\n",
       " Data(x=[110592, 2], edge_index=[2, 649728], y=[110592, 2], edge_weight=[649728], train_mask=[110592]),\n",
       " Data(x=[110592, 2], edge_index=[2, 649728], y=[110592, 2], edge_weight=[649728], train_mask=[110592]),\n",
       " Data(x=[110592, 2], edge_index=[2, 649728], y=[110592, 2], edge_weight=[649728], train_mask=[110592]),\n",
       " Data(x=[110592, 2], edge_index=[2, 649728], y=[110592, 2], edge_weight=[649728], train_mask=[110592]),\n",
       " Data(x=[110592, 2], edge_index=[2, 649728], y=[110592, 2], edge_weight=[649728], train_mask=[110592]),\n",
       " Data(x=[110592, 2], edge_index=[2, 649728], y=[110592, 2], edge_weight=[649728], train_mask=[110592]),\n",
       " Data(x=[110592, 2], edge_index=[2, 649728], y=[110592, 2], edge_weight=[649728], train_mask=[110592]),\n",
       " Data(x=[110592, 2], edge_index=[2, 649728], y=[110592, 2], edge_weight=[649728], train_mask=[110592]),\n",
       " Data(x=[110592, 2], edge_index=[2, 649728], y=[110592, 2], edge_weight=[649728], train_mask=[110592]),\n",
       " Data(x=[110592, 2], edge_index=[2, 649728], y=[110592, 2], edge_weight=[649728], train_mask=[110592]),\n",
       " Data(x=[110592, 2], edge_index=[2, 649728], y=[110592, 2], edge_weight=[649728], train_mask=[110592]),\n",
       " Data(x=[110592, 2], edge_index=[2, 649728], y=[110592, 2], edge_weight=[649728], train_mask=[110592]),\n",
       " Data(x=[110592, 2], edge_index=[2, 649728], y=[110592, 2], edge_weight=[649728], train_mask=[110592]),\n",
       " Data(x=[110592, 2], edge_index=[2, 649728], y=[110592, 2], edge_weight=[649728], train_mask=[110592]),\n",
       " Data(x=[110592, 2], edge_index=[2, 649728], y=[110592, 2], edge_weight=[649728], train_mask=[110592]),\n",
       " Data(x=[110592, 2], edge_index=[2, 649728], y=[110592, 2], edge_weight=[649728], train_mask=[110592]),\n",
       " Data(x=[110592, 2], edge_index=[2, 649728], y=[110592, 2], edge_weight=[649728], train_mask=[110592]),\n",
       " Data(x=[110592, 2], edge_index=[2, 649728], y=[110592, 2], edge_weight=[649728], train_mask=[110592]),\n",
       " Data(x=[110592, 2], edge_index=[2, 649728], y=[110592, 2], edge_weight=[649728], train_mask=[110592]),\n",
       " Data(x=[110592, 2], edge_index=[2, 649728], y=[110592, 2], edge_weight=[649728], train_mask=[110592]),\n",
       " Data(x=[110592, 2], edge_index=[2, 649728], y=[110592, 2], edge_weight=[649728], train_mask=[110592]),\n",
       " Data(x=[110592, 2], edge_index=[2, 649728], y=[110592, 2], edge_weight=[649728], train_mask=[110592]),\n",
       " Data(x=[110592, 2], edge_index=[2, 649728], y=[110592, 2], edge_weight=[649728], train_mask=[110592]),\n",
       " Data(x=[110592, 2], edge_index=[2, 649728], y=[110592, 2], edge_weight=[649728], train_mask=[110592]),\n",
       " Data(x=[110592, 2], edge_index=[2, 649728], y=[110592, 2], edge_weight=[649728], train_mask=[110592]),\n",
       " Data(x=[110592, 2], edge_index=[2, 649728], y=[110592, 2], edge_weight=[649728], train_mask=[110592]),\n",
       " Data(x=[110592, 2], edge_index=[2, 649728], y=[110592, 2], edge_weight=[649728], train_mask=[110592]),\n",
       " Data(x=[110592, 2], edge_index=[2, 649728], y=[110592, 2], edge_weight=[649728], train_mask=[110592]),\n",
       " Data(x=[110592, 2], edge_index=[2, 649728], y=[110592, 2], edge_weight=[649728], train_mask=[110592]),\n",
       " Data(x=[110592, 2], edge_index=[2, 649728], y=[110592, 2], edge_weight=[649728], train_mask=[110592]),\n",
       " Data(x=[110592, 2], edge_index=[2, 649728], y=[110592, 2], edge_weight=[649728], train_mask=[110592]),\n",
       " Data(x=[110592, 2], edge_index=[2, 649728], y=[110592, 2], edge_weight=[649728], train_mask=[110592]),\n",
       " Data(x=[110592, 2], edge_index=[2, 649728], y=[110592, 2], edge_weight=[649728], train_mask=[110592]),\n",
       " Data(x=[110592, 2], edge_index=[2, 649728], y=[110592, 2], edge_weight=[649728], train_mask=[110592]),\n",
       " Data(x=[110592, 2], edge_index=[2, 649728], y=[110592, 2], edge_weight=[649728], train_mask=[110592]),\n",
       " Data(x=[110592, 2], edge_index=[2, 649728], y=[110592, 2], edge_weight=[649728], train_mask=[110592]),\n",
       " Data(x=[110592, 2], edge_index=[2, 649728], y=[110592, 2], edge_weight=[649728], train_mask=[110592]),\n",
       " Data(x=[110592, 2], edge_index=[2, 649728], y=[110592, 2], edge_weight=[649728], train_mask=[110592]),\n",
       " Data(x=[110592, 2], edge_index=[2, 649728], y=[110592, 2], edge_weight=[649728], train_mask=[110592]),\n",
       " Data(x=[110592, 2], edge_index=[2, 649728], y=[110592, 2], edge_weight=[649728], train_mask=[110592]),\n",
       " Data(x=[110592, 2], edge_index=[2, 649728], y=[110592, 2], edge_weight=[649728], train_mask=[110592]),\n",
       " Data(x=[110592, 2], edge_index=[2, 649728], y=[110592, 2], edge_weight=[649728], train_mask=[110592]),\n",
       " Data(x=[110592, 2], edge_index=[2, 649728], y=[110592, 2], edge_weight=[649728], train_mask=[110592]),\n",
       " Data(x=[110592, 2], edge_index=[2, 649728], y=[110592, 2], edge_weight=[649728], train_mask=[110592]),\n",
       " Data(x=[110592, 2], edge_index=[2, 649728], y=[110592, 2], edge_weight=[649728], train_mask=[110592]),\n",
       " Data(x=[110592, 2], edge_index=[2, 649728], y=[110592, 2], edge_weight=[649728], train_mask=[110592]),\n",
       " Data(x=[110592, 2], edge_index=[2, 649728], y=[110592, 2], edge_weight=[649728], train_mask=[110592]),\n",
       " Data(x=[110592, 2], edge_index=[2, 649728], y=[110592, 2], edge_weight=[649728], train_mask=[110592]),\n",
       " Data(x=[110592, 2], edge_index=[2, 649728], y=[110592, 2], edge_weight=[649728], train_mask=[110592]),\n",
       " Data(x=[110592, 2], edge_index=[2, 649728], y=[110592, 2], edge_weight=[649728], train_mask=[110592]),\n",
       " Data(x=[110592, 2], edge_index=[2, 649728], y=[110592, 2], edge_weight=[649728], train_mask=[110592]),\n",
       " Data(x=[110592, 2], edge_index=[2, 649728], y=[110592, 2], edge_weight=[649728], train_mask=[110592]),\n",
       " Data(x=[110592, 2], edge_index=[2, 649728], y=[110592, 2], edge_weight=[649728], train_mask=[110592]),\n",
       " Data(x=[110592, 2], edge_index=[2, 649728], y=[110592, 2], edge_weight=[649728], train_mask=[110592]),\n",
       " Data(x=[110592, 2], edge_index=[2, 649728], y=[110592, 2], edge_weight=[649728], train_mask=[110592]),\n",
       " Data(x=[110592, 2], edge_index=[2, 649728], y=[110592, 2], edge_weight=[649728], train_mask=[110592]),\n",
       " Data(x=[110592, 2], edge_index=[2, 649728], y=[110592, 2], edge_weight=[649728], train_mask=[110592]),\n",
       " Data(x=[110592, 2], edge_index=[2, 649728], y=[110592, 2], edge_weight=[649728], train_mask=[110592]),\n",
       " Data(x=[110592, 2], edge_index=[2, 649728], y=[110592, 2], edge_weight=[649728], train_mask=[110592]),\n",
       " Data(x=[110592, 2], edge_index=[2, 649728], y=[110592, 2], edge_weight=[649728], train_mask=[110592]),\n",
       " Data(x=[110592, 2], edge_index=[2, 649728], y=[110592, 2], edge_weight=[649728], train_mask=[110592]),\n",
       " Data(x=[110592, 2], edge_index=[2, 649728], y=[110592, 2], edge_weight=[649728], train_mask=[110592]),\n",
       " Data(x=[110592, 2], edge_index=[2, 649728], y=[110592, 2], edge_weight=[649728], train_mask=[110592]),\n",
       " Data(x=[110592, 2], edge_index=[2, 649728], y=[110592, 2], edge_weight=[649728], train_mask=[110592]),\n",
       " Data(x=[110592, 2], edge_index=[2, 649728], y=[110592, 2], edge_weight=[649728], train_mask=[110592]),\n",
       " Data(x=[110592, 2], edge_index=[2, 649728], y=[110592, 2], edge_weight=[649728], train_mask=[110592]),\n",
       " Data(x=[110592, 2], edge_index=[2, 649728], y=[110592, 2], edge_weight=[649728], train_mask=[110592]),\n",
       " Data(x=[110592, 2], edge_index=[2, 649728], y=[110592, 2], edge_weight=[649728], train_mask=[110592]),\n",
       " Data(x=[110592, 2], edge_index=[2, 649728], y=[110592, 2], edge_weight=[649728], train_mask=[110592]),\n",
       " Data(x=[110592, 2], edge_index=[2, 649728], y=[110592, 2], edge_weight=[649728], train_mask=[110592]),\n",
       " Data(x=[110592, 2], edge_index=[2, 649728], y=[110592, 2], edge_weight=[649728], train_mask=[110592]),\n",
       " Data(x=[110592, 2], edge_index=[2, 649728], y=[110592, 2], edge_weight=[649728], train_mask=[110592]),\n",
       " Data(x=[110592, 2], edge_index=[2, 649728], y=[110592, 2], edge_weight=[649728], train_mask=[110592]),\n",
       " Data(x=[110592, 2], edge_index=[2, 649728], y=[110592, 2], edge_weight=[649728], train_mask=[110592]),\n",
       " Data(x=[110592, 2], edge_index=[2, 649728], y=[110592, 2], edge_weight=[649728], train_mask=[110592]),\n",
       " Data(x=[110592, 2], edge_index=[2, 649728], y=[110592, 2], edge_weight=[649728], train_mask=[110592]),\n",
       " Data(x=[110592, 2], edge_index=[2, 649728], y=[110592, 2], edge_weight=[649728], train_mask=[110592])]"
      ]
     },
     "execution_count": 147,
     "metadata": {},
     "output_type": "execute_result"
    }
   ],
   "source": [
    "dataset"
   ]
  },
  {
   "cell_type": "code",
   "execution_count": null,
   "metadata": {},
   "outputs": [
    {
     "data": {
      "text/plain": [
       "['scan_87.h5',\n",
       " 'scan_73.h5',\n",
       " 'scan_81.h5',\n",
       " 'scan_75.h5',\n",
       " 'scan_13.h5',\n",
       " 'scan_4.h5',\n",
       " 'scan_5.h5',\n",
       " 'scan_62.h5',\n",
       " 'scan_50.h5',\n",
       " 'scan_36.h5',\n",
       " 'scan_60.h5',\n",
       " 'scan_17.h5',\n",
       " 'scan_14.h5',\n",
       " 'scan_91.h5',\n",
       " 'scan_74.h5',\n",
       " 'scan_47.h5',\n",
       " 'scan_102.h5',\n",
       " 'scan_66.h5',\n",
       " 'scan_46.h5',\n",
       " 'scan_23.h5',\n",
       " 'scan_65.h5',\n",
       " 'scan_10.h5',\n",
       " 'scan_85.h5',\n",
       " 'scan_38.h5',\n",
       " 'scan_83.h5',\n",
       " 'scan_56.h5',\n",
       " 'scan_63.h5',\n",
       " 'scan_59.h5',\n",
       " 'scan_58.h5',\n",
       " 'scan_77.h5',\n",
       " 'scan_79.h5',\n",
       " 'scan_96.h5',\n",
       " 'scan_43.h5',\n",
       " 'scan_90.h5',\n",
       " 'scan_69.h5',\n",
       " 'scan_89.h5',\n",
       " 'scan_100.h5',\n",
       " 'scan_103.h5',\n",
       " 'scan_55.h5',\n",
       " 'scan_72.h5',\n",
       " 'scan_8.h5',\n",
       " 'scan_68.h5',\n",
       " 'scan_78.h5',\n",
       " 'scan_44.h5',\n",
       " 'scan_97.h5',\n",
       " 'scan_29.h5',\n",
       " 'scan_45.h5',\n",
       " 'scan_39.h5',\n",
       " 'scan_61.h5',\n",
       " 'scan_21.h5',\n",
       " 'scan_33.h5',\n",
       " 'scan_52.h5',\n",
       " 'scan_34.h5',\n",
       " 'scan_40.h5',\n",
       " 'scan_42.h5',\n",
       " 'scan_3.h5',\n",
       " 'scan_48.h5',\n",
       " 'scan_57.h5',\n",
       " 'scan_99.h5',\n",
       " 'scan_2.h5',\n",
       " 'scan_86.h5',\n",
       " 'scan_67.h5',\n",
       " 'scan_18.h5',\n",
       " 'scan_11.h5',\n",
       " 'scan_9.h5',\n",
       " 'scan_92.h5',\n",
       " 'scan_93.h5',\n",
       " 'scan_22.h5',\n",
       " 'scan_31.h5',\n",
       " 'scan_37.h5',\n",
       " 'scan_95.h5',\n",
       " 'scan_71.h5',\n",
       " 'scan_15.h5',\n",
       " 'scan_32.h5',\n",
       " 'scan_76.h5',\n",
       " 'scan_70.h5',\n",
       " 'scan_54.h5',\n",
       " 'scan_98.h5',\n",
       " 'scan_24.h5',\n",
       " 'scan_41.h5',\n",
       " 'scan_30.h5',\n",
       " 'scan_7.h5',\n",
       " 'scan_80.h5',\n",
       " 'scan_20.h5',\n",
       " 'scan_49.h5',\n",
       " 'scan_101.h5',\n",
       " 'scan_16.h5',\n",
       " 'scan_1.h5',\n",
       " 'scan_82.h5',\n",
       " 'scan_88.h5',\n",
       " 'scan_64.h5']"
      ]
     },
     "execution_count": 148,
     "metadata": {},
     "output_type": "execute_result"
    }
   ],
   "source": [
    "names"
   ]
  },
  {
   "cell_type": "code",
   "execution_count": null,
   "metadata": {},
   "outputs": [
    {
     "name": "stdout",
     "output_type": "stream",
     "text": [
      "Data(x=[110592, 2], edge_index=[2, 649728], y=[110592, 2], edge_weight=[649728], train_mask=[110592])\n",
      "Data(x=[110592, 2], edge_index=[2, 649728], y=[110592, 2], edge_weight=[649728], train_mask=[110592])\n",
      "Data(x=[110592, 2], edge_index=[2, 649728], y=[110592, 2], edge_weight=[649728], train_mask=[110592])\n",
      "Data(x=[110592, 2], edge_index=[2, 649728], y=[110592, 2], edge_weight=[649728], train_mask=[110592])\n",
      "Data(x=[110592, 2], edge_index=[2, 649728], y=[110592, 2], edge_weight=[649728], train_mask=[110592])\n",
      "Data(x=[110592, 2], edge_index=[2, 649728], y=[110592, 2], edge_weight=[649728], train_mask=[110592])\n",
      "Data(x=[110592, 2], edge_index=[2, 649728], y=[110592, 2], edge_weight=[649728], train_mask=[110592])\n",
      "Data(x=[110592, 2], edge_index=[2, 649728], y=[110592, 2], edge_weight=[649728], train_mask=[110592])\n",
      "Data(x=[110592, 2], edge_index=[2, 649728], y=[110592, 2], edge_weight=[649728], train_mask=[110592])\n",
      "Data(x=[110592, 2], edge_index=[2, 649728], y=[110592, 2], edge_weight=[649728], train_mask=[110592])\n",
      "Data(x=[110592, 2], edge_index=[2, 649728], y=[110592, 2], edge_weight=[649728], train_mask=[110592])\n",
      "Data(x=[110592, 2], edge_index=[2, 649728], y=[110592, 2], edge_weight=[649728], train_mask=[110592])\n",
      "Data(x=[110592, 2], edge_index=[2, 649728], y=[110592, 2], edge_weight=[649728], train_mask=[110592])\n",
      "Data(x=[110592, 2], edge_index=[2, 649728], y=[110592, 2], edge_weight=[649728], train_mask=[110592])\n",
      "Data(x=[110592, 2], edge_index=[2, 649728], y=[110592, 2], edge_weight=[649728], train_mask=[110592])\n",
      "Data(x=[110592, 2], edge_index=[2, 649728], y=[110592, 2], edge_weight=[649728], train_mask=[110592])\n",
      "Data(x=[110592, 2], edge_index=[2, 649728], y=[110592, 2], edge_weight=[649728], train_mask=[110592])\n",
      "Data(x=[110592, 2], edge_index=[2, 649728], y=[110592, 2], edge_weight=[649728], train_mask=[110592])\n",
      "Data(x=[110592, 2], edge_index=[2, 649728], y=[110592, 2], edge_weight=[649728], train_mask=[110592])\n",
      "Data(x=[110592, 2], edge_index=[2, 649728], y=[110592, 2], edge_weight=[649728], train_mask=[110592])\n",
      "Data(x=[110592, 2], edge_index=[2, 649728], y=[110592, 2], edge_weight=[649728], train_mask=[110592])\n",
      "Data(x=[110592, 2], edge_index=[2, 649728], y=[110592, 2], edge_weight=[649728], train_mask=[110592])\n",
      "Data(x=[110592, 2], edge_index=[2, 649728], y=[110592, 2], edge_weight=[649728], train_mask=[110592])\n",
      "Data(x=[110592, 2], edge_index=[2, 649728], y=[110592, 2], edge_weight=[649728], train_mask=[110592])\n",
      "Data(x=[110592, 2], edge_index=[2, 649728], y=[110592, 2], edge_weight=[649728], train_mask=[110592])\n",
      "Data(x=[110592, 2], edge_index=[2, 649728], y=[110592, 2], edge_weight=[649728], train_mask=[110592])\n",
      "Data(x=[110592, 2], edge_index=[2, 649728], y=[110592, 2], edge_weight=[649728], train_mask=[110592])\n",
      "Data(x=[110592, 2], edge_index=[2, 649728], y=[110592, 2], edge_weight=[649728], train_mask=[110592])\n",
      "Data(x=[110592, 2], edge_index=[2, 649728], y=[110592, 2], edge_weight=[649728], train_mask=[110592])\n",
      "Data(x=[110592, 2], edge_index=[2, 649728], y=[110592, 2], edge_weight=[649728], train_mask=[110592])\n",
      "Data(x=[110592, 2], edge_index=[2, 649728], y=[110592, 2], edge_weight=[649728], train_mask=[110592])\n",
      "Data(x=[110592, 2], edge_index=[2, 649728], y=[110592, 2], edge_weight=[649728], train_mask=[110592])\n",
      "Data(x=[110592, 2], edge_index=[2, 649728], y=[110592, 2], edge_weight=[649728], train_mask=[110592])\n",
      "Data(x=[110592, 2], edge_index=[2, 649728], y=[110592, 2], edge_weight=[649728], train_mask=[110592])\n",
      "Data(x=[110592, 2], edge_index=[2, 649728], y=[110592, 2], edge_weight=[649728], train_mask=[110592])\n",
      "Data(x=[110592, 2], edge_index=[2, 649728], y=[110592, 2], edge_weight=[649728], train_mask=[110592])\n",
      "Data(x=[110592, 2], edge_index=[2, 649728], y=[110592, 2], edge_weight=[649728], train_mask=[110592])\n",
      "Data(x=[110592, 2], edge_index=[2, 649728], y=[110592, 2], edge_weight=[649728], train_mask=[110592])\n",
      "Data(x=[110592, 2], edge_index=[2, 649728], y=[110592, 2], edge_weight=[649728], train_mask=[110592])\n",
      "Data(x=[110592, 2], edge_index=[2, 649728], y=[110592, 2], edge_weight=[649728], train_mask=[110592])\n",
      "Data(x=[110592, 2], edge_index=[2, 649728], y=[110592, 2], edge_weight=[649728], train_mask=[110592])\n",
      "Data(x=[110592, 2], edge_index=[2, 649728], y=[110592, 2], edge_weight=[649728], train_mask=[110592])\n",
      "Data(x=[110592, 2], edge_index=[2, 649728], y=[110592, 2], edge_weight=[649728], train_mask=[110592])\n",
      "Data(x=[110592, 2], edge_index=[2, 649728], y=[110592, 2], edge_weight=[649728], train_mask=[110592])\n",
      "Data(x=[110592, 2], edge_index=[2, 649728], y=[110592, 2], edge_weight=[649728], train_mask=[110592])\n",
      "Data(x=[110592, 2], edge_index=[2, 649728], y=[110592, 2], edge_weight=[649728], train_mask=[110592])\n",
      "Data(x=[110592, 2], edge_index=[2, 649728], y=[110592, 2], edge_weight=[649728], train_mask=[110592])\n",
      "Data(x=[110592, 2], edge_index=[2, 649728], y=[110592, 2], edge_weight=[649728], train_mask=[110592])\n",
      "Data(x=[110592, 2], edge_index=[2, 649728], y=[110592, 2], edge_weight=[649728], train_mask=[110592])\n",
      "Data(x=[110592, 2], edge_index=[2, 649728], y=[110592, 2], edge_weight=[649728], train_mask=[110592])\n",
      "Data(x=[110592, 2], edge_index=[2, 649728], y=[110592, 2], edge_weight=[649728], train_mask=[110592])\n",
      "Data(x=[110592, 2], edge_index=[2, 649728], y=[110592, 2], edge_weight=[649728], train_mask=[110592])\n",
      "Data(x=[110592, 2], edge_index=[2, 649728], y=[110592, 2], edge_weight=[649728], train_mask=[110592])\n",
      "Data(x=[110592, 2], edge_index=[2, 649728], y=[110592, 2], edge_weight=[649728], train_mask=[110592])\n",
      "Data(x=[110592, 2], edge_index=[2, 649728], y=[110592, 2], edge_weight=[649728], train_mask=[110592])\n",
      "Data(x=[110592, 2], edge_index=[2, 649728], y=[110592, 2], edge_weight=[649728], train_mask=[110592])\n",
      "Data(x=[110592, 2], edge_index=[2, 649728], y=[110592, 2], edge_weight=[649728], train_mask=[110592])\n",
      "Data(x=[110592, 2], edge_index=[2, 649728], y=[110592, 2], edge_weight=[649728], train_mask=[110592])\n",
      "Data(x=[110592, 2], edge_index=[2, 649728], y=[110592, 2], edge_weight=[649728], train_mask=[110592])\n",
      "Data(x=[110592, 2], edge_index=[2, 649728], y=[110592, 2], edge_weight=[649728], train_mask=[110592])\n",
      "Data(x=[110592, 2], edge_index=[2, 649728], y=[110592, 2], edge_weight=[649728], train_mask=[110592])\n",
      "Data(x=[110592, 2], edge_index=[2, 649728], y=[110592, 2], edge_weight=[649728], train_mask=[110592])\n",
      "Data(x=[110592, 2], edge_index=[2, 649728], y=[110592, 2], edge_weight=[649728], train_mask=[110592])\n",
      "Data(x=[110592, 2], edge_index=[2, 649728], y=[110592, 2], edge_weight=[649728], train_mask=[110592])\n",
      "Data(x=[110592, 2], edge_index=[2, 649728], y=[110592, 2], edge_weight=[649728], train_mask=[110592])\n",
      "Data(x=[110592, 2], edge_index=[2, 649728], y=[110592, 2], edge_weight=[649728], train_mask=[110592])\n",
      "Data(x=[110592, 2], edge_index=[2, 649728], y=[110592, 2], edge_weight=[649728], train_mask=[110592])\n",
      "Data(x=[110592, 2], edge_index=[2, 649728], y=[110592, 2], edge_weight=[649728], train_mask=[110592])\n",
      "Data(x=[110592, 2], edge_index=[2, 649728], y=[110592, 2], edge_weight=[649728], train_mask=[110592])\n",
      "Data(x=[110592, 2], edge_index=[2, 649728], y=[110592, 2], edge_weight=[649728], train_mask=[110592])\n",
      "Data(x=[110592, 2], edge_index=[2, 649728], y=[110592, 2], edge_weight=[649728], train_mask=[110592])\n",
      "Data(x=[110592, 2], edge_index=[2, 649728], y=[110592, 2], edge_weight=[649728], train_mask=[110592])\n",
      "Data(x=[110592, 2], edge_index=[2, 649728], y=[110592, 2], edge_weight=[649728], train_mask=[110592])\n",
      "Data(x=[110592, 2], edge_index=[2, 649728], y=[110592, 2], edge_weight=[649728], train_mask=[110592])\n",
      "Data(x=[110592, 2], edge_index=[2, 649728], y=[110592, 2], edge_weight=[649728], train_mask=[110592])\n",
      "Data(x=[110592, 2], edge_index=[2, 649728], y=[110592, 2], edge_weight=[649728], train_mask=[110592])\n",
      "Data(x=[110592, 2], edge_index=[2, 649728], y=[110592, 2], edge_weight=[649728], train_mask=[110592])\n",
      "Data(x=[110592, 2], edge_index=[2, 649728], y=[110592, 2], edge_weight=[649728], train_mask=[110592])\n",
      "Data(x=[110592, 2], edge_index=[2, 649728], y=[110592, 2], edge_weight=[649728], train_mask=[110592])\n",
      "Data(x=[110592, 2], edge_index=[2, 649728], y=[110592, 2], edge_weight=[649728], train_mask=[110592])\n",
      "Data(x=[110592, 2], edge_index=[2, 649728], y=[110592, 2], edge_weight=[649728], train_mask=[110592])\n",
      "Data(x=[110592, 2], edge_index=[2, 649728], y=[110592, 2], edge_weight=[649728], train_mask=[110592])\n",
      "Data(x=[110592, 2], edge_index=[2, 649728], y=[110592, 2], edge_weight=[649728], train_mask=[110592])\n",
      "Data(x=[110592, 2], edge_index=[2, 649728], y=[110592, 2], edge_weight=[649728], train_mask=[110592])\n",
      "Data(x=[110592, 2], edge_index=[2, 649728], y=[110592, 2], edge_weight=[649728], train_mask=[110592])\n",
      "Data(x=[110592, 2], edge_index=[2, 649728], y=[110592, 2], edge_weight=[649728], train_mask=[110592])\n",
      "Data(x=[110592, 2], edge_index=[2, 649728], y=[110592, 2], edge_weight=[649728], train_mask=[110592])\n",
      "Data(x=[110592, 2], edge_index=[2, 649728], y=[110592, 2], edge_weight=[649728], train_mask=[110592])\n",
      "Data(x=[110592, 2], edge_index=[2, 649728], y=[110592, 2], edge_weight=[649728], train_mask=[110592])\n",
      "Data(x=[110592, 2], edge_index=[2, 649728], y=[110592, 2], edge_weight=[649728], train_mask=[110592])\n",
      "Data(x=[110592, 2], edge_index=[2, 649728], y=[110592, 2], edge_weight=[649728], train_mask=[110592])\n"
     ]
    }
   ],
   "source": [
    "for data in dataset:\n",
    "    print(data)\n",
    "    if data.has_isolated_nodes():\n",
    "        print(\"ouah\")"
   ]
  },
  {
   "cell_type": "code",
   "execution_count": null,
   "metadata": {},
   "outputs": [
    {
     "name": "stdout",
     "output_type": "stream",
     "text": [
      "GCN(\n",
      "  (conv1): GCNConv(2, 6)\n",
      "  (conv2): GCNConv(6, 4)\n",
      "  (conv3): GCNConv(4, 2)\n",
      ")\n"
     ]
    }
   ],
   "source": [
    "from torch_geometric.nn import GCNConv\n",
    "import torch.nn.functional as F\n",
    "\n",
    "class GCN(torch.nn.Module):\n",
    "    def __init__(self, hidden_channels):\n",
    "        super().__init__()\n",
    "        self.conv1 = GCNConv(2, hidden_channels)\n",
    "        self.conv2 = GCNConv(hidden_channels, 4)\n",
    "        self.conv3 = GCNConv(4, 2)\n",
    "\n",
    "    def forward(self, x, edge_index, edge_weight):\n",
    "        x = self.conv1(x, edge_index, edge_weight)\n",
    "        x = x.relu()\n",
    "        x = F.dropout(x, p=0.5, training=self.training)\n",
    "        x = self.conv2(x, edge_index, edge_weight)\n",
    "        x = x.relu()\n",
    "        x = self.conv3(x, edge_index, edge_weight)\n",
    "        x = F.softmax(x, dim=1)\n",
    "        return x\n",
    "\n",
    "model = GCN(hidden_channels=6)\n",
    "print(model)"
   ]
  },
  {
   "cell_type": "code",
   "execution_count": null,
   "metadata": {},
   "outputs": [],
   "source": [
    "\n",
    "import torch\n",
    "import torch.nn as nn\n",
    "import torch.nn.functional as F\n",
    "import numpy as np\n",
    "\n",
    "def make_one_hot(input, num_classes):\n",
    "    \"\"\"Convert class index tensor to one hot encoding tensor.\n",
    "    Args:\n",
    "         input: A tensor of shape [N, 1, *]\n",
    "         num_classes: An int of number of class\n",
    "    Returns:\n",
    "        A tensor of shape [N, num_classes, *]\n",
    "    \"\"\"\n",
    "    shape = np.array(input.shape)\n",
    "    shape[1] = num_classes\n",
    "    shape = tuple(shape)\n",
    "    result = torch.zeros(shape)\n",
    "    result = result.scatter_(1, input.cpu(), 1)\n",
    "\n",
    "    return result\n",
    "\n",
    "class BinaryDiceLoss(nn.Module):\n",
    "    \"\"\"Dice loss of binary class\n",
    "    Args:\n",
    "        smooth: A float number to smooth loss, and avoid NaN error, default: 1\n",
    "        p: Denominator value: \\sum{x^p} + \\sum{y^p}, default: 2\n",
    "        predict: A tensor of shape [N, *]\n",
    "        target: A tensor of shape same with predict\n",
    "        reduction: Reduction method to apply, return mean over batch if 'mean',\n",
    "            return sum if 'sum', return a tensor of shape [N,] if 'none'\n",
    "    Returns:\n",
    "        Loss tensor according to arg reduction\n",
    "    Raise:\n",
    "        Exception if unexpected reduction\n",
    "    \"\"\"\n",
    "    def __init__(self, smooth=1, p=2, reduction='mean'):\n",
    "        super(BinaryDiceLoss, self).__init__()\n",
    "        self.smooth = smooth\n",
    "        self.p = p\n",
    "        self.reduction = reduction\n",
    "\n",
    "    def forward(self, predict, target):\n",
    "        assert predict.shape[0] == target.shape[0], \"predict & target batch size don't match\"\n",
    "        predict = predict.contiguous().view(predict.shape[0], -1)\n",
    "        target = target.contiguous().view(target.shape[0], -1)\n",
    "\n",
    "        num = torch.sum(torch.mul(predict, target), dim=1) + self.smooth\n",
    "        den = torch.sum(predict.pow(self.p) + target.pow(self.p), dim=1) + self.smooth\n",
    "\n",
    "        loss = 1 - num / den\n",
    "\n",
    "        if self.reduction == 'mean':\n",
    "            return loss.mean()\n",
    "        elif self.reduction == 'sum':\n",
    "            return loss.sum()\n",
    "        elif self.reduction == 'none':\n",
    "            return loss\n",
    "        else:\n",
    "            raise Exception('Unexpected reduction {}'.format(self.reduction))\n",
    "\n",
    "class DiceLoss(nn.Module):\n",
    "    \"\"\"Dice loss, need one hot encode input\n",
    "    Args:\n",
    "        weight: An array of shape [num_classes,]\n",
    "        ignore_index: class index to ignore\n",
    "        predict: A tensor of shape [N, C, *]\n",
    "        target: A tensor of same shape with predict\n",
    "        other args pass to BinaryDiceLoss\n",
    "    Return:\n",
    "        same as BinaryDiceLoss\n",
    "    \"\"\"\n",
    "    def __init__(self, weight=None, ignore_index=None, **kwargs):\n",
    "        super(DiceLoss, self).__init__()\n",
    "        self.kwargs = kwargs\n",
    "        self.weight = weight\n",
    "        self.ignore_index = ignore_index\n",
    "\n",
    "    def forward(self, predict, target):\n",
    "        assert predict.shape == target.shape, 'predict & target shape do not match'\n",
    "        dice = BinaryDiceLoss(**self.kwargs)\n",
    "        total_loss = 0\n",
    "        predict = F.softmax(predict, dim=1)\n",
    "\n",
    "        for i in range(target.shape[1]):\n",
    "            if i != self.ignore_index:\n",
    "                dice_loss = dice(predict[:, i], target[:, i])\n",
    "                if self.weight is not None:\n",
    "                    assert self.weight.shape[0] == target.shape[1], \\\n",
    "                        'Expect weight shape [{}], get[{}]'.format(target.shape[1], self.weight.shape[0])\n",
    "                    dice_loss *= self.weight[i]\n",
    "                total_loss += dice_loss\n",
    "\n",
    "        return total_loss/target.shape[1]\n"
   ]
  },
  {
   "cell_type": "code",
   "execution_count": null,
   "metadata": {},
   "outputs": [],
   "source": [
    "from IPython.display import Javascript  # Restrict height of output cell.\n",
    "from tqdm import tqdm\n",
    "\n",
    "model = GCN(hidden_channels=4).float()\n",
    "optimizer = torch.optim.Adam(model.parameters(), lr=0.01, weight_decay=5e-4)\n",
    "criterion = DiceLoss()\n"
   ]
  },
  {
   "cell_type": "code",
   "execution_count": null,
   "metadata": {},
   "outputs": [],
   "source": [
    "from torch_geometric.loader import DataLoader\n",
    "\n",
    "def train(loader):\n",
    "      for batch in loader:\n",
    "            model.train()\n",
    "            optimizer.zero_grad()  # Clear gradients.\n",
    "            out = model(batch.x.float(), batch.edge_index, batch.edge_weight)  # Perform a single forward pass.\n",
    "            loss = criterion(out[batch.train_mask], batch.y[batch.train_mask])  # Compute the loss solely based on the training nodes.\n",
    "            loss.backward()  # Derive gradients.\n",
    "            optimizer.step()  # Update parameters based on gradients.\n",
    "      return loss\n",
    "\n",
    "def test(data):\n",
    "      model.eval()\n",
    "      out = model(data.x.float(), data.edge_index, data.edge_weight)\n",
    "      pred = out.argmax(dim=1)  # Use the class with highest probability.\n",
    "      test_correct = pred == data.y.argmax(dim=1)  # Check against ground-truth labels.\n",
    "      test_acc = int(test_correct.sum()) / int(len(data.x))  # Derive ratio of correct predictions.\n",
    "      return test_acc\n"
   ]
  },
  {
   "cell_type": "code",
   "execution_count": null,
   "metadata": {},
   "outputs": [
    {
     "name": "stdout",
     "output_type": "stream",
     "text": [
      "Epoch: 001, Loss: 0.2635\n",
      "Epoch: 002, Loss: 0.2578\n",
      "Epoch: 003, Loss: 0.2488\n",
      "Epoch: 004, Loss: 0.2387\n",
      "Epoch: 005, Loss: 0.2292\n",
      "Epoch: 006, Loss: 0.2203\n",
      "Epoch: 007, Loss: 0.2123\n",
      "Epoch: 008, Loss: 0.2062\n",
      "Epoch: 009, Loss: 0.2019\n",
      "Epoch: 010, Loss: 0.1987\n",
      "Epoch: 011, Loss: 0.1966\n",
      "Epoch: 012, Loss: 0.1952\n",
      "Epoch: 013, Loss: 0.1947\n",
      "Epoch: 014, Loss: 0.1945\n",
      "Epoch: 015, Loss: 0.1939\n",
      "Epoch: 016, Loss: 0.1935\n",
      "Epoch: 017, Loss: 0.1935\n",
      "Epoch: 018, Loss: 0.1934\n",
      "Epoch: 019, Loss: 0.1935\n",
      "Epoch: 020, Loss: 0.1935\n",
      "Epoch: 021, Loss: 0.1933\n",
      "Epoch: 022, Loss: 0.1935\n",
      "Epoch: 023, Loss: 0.1932\n",
      "Epoch: 024, Loss: 0.1931\n",
      "Epoch: 025, Loss: 0.1933\n",
      "Epoch: 026, Loss: 0.1933\n",
      "Epoch: 027, Loss: 0.1931\n",
      "Epoch: 028, Loss: 0.1930\n",
      "Epoch: 029, Loss: 0.1937\n",
      "Epoch: 030, Loss: 0.1932\n",
      "Epoch: 031, Loss: 0.1931\n",
      "Epoch: 032, Loss: 0.1936\n",
      "Epoch: 033, Loss: 0.1929\n",
      "Epoch: 034, Loss: 0.1930\n",
      "Epoch: 035, Loss: 0.1931\n",
      "Epoch: 036, Loss: 0.1932\n",
      "Epoch: 037, Loss: 0.1933\n",
      "Epoch: 038, Loss: 0.1929\n",
      "Epoch: 039, Loss: 0.1933\n",
      "Epoch: 040, Loss: 0.1936\n",
      "Epoch: 041, Loss: 0.1930\n",
      "Epoch: 042, Loss: 0.1931\n",
      "Epoch: 043, Loss: 0.1934\n"
     ]
    },
    {
     "ename": "KeyboardInterrupt",
     "evalue": "",
     "output_type": "error",
     "traceback": [
      "\u001b[0;31m---------------------------------------------------------------------------\u001b[0m",
      "\u001b[0;31mKeyboardInterrupt\u001b[0m                         Traceback (most recent call last)",
      "Cell \u001b[0;32mIn [154], line 6\u001b[0m\n\u001b[1;32m      3\u001b[0m loader \u001b[39m=\u001b[39m DataLoader(dataset[:batchsize\u001b[39m*\u001b[39mnum_batch], batch_size\u001b[39m=\u001b[39mbatchsize, shuffle\u001b[39m=\u001b[39m\u001b[39mTrue\u001b[39;00m)\n\u001b[1;32m      5\u001b[0m \u001b[39mfor\u001b[39;00m epoch \u001b[39min\u001b[39;00m \u001b[39mrange\u001b[39m(\u001b[39m1\u001b[39m, \u001b[39m100\u001b[39m):\n\u001b[0;32m----> 6\u001b[0m     loss \u001b[39m=\u001b[39m train(loader)\n\u001b[1;32m      7\u001b[0m     \u001b[39mprint\u001b[39m(\u001b[39mf\u001b[39m\u001b[39m'\u001b[39m\u001b[39mEpoch: \u001b[39m\u001b[39m{\u001b[39;00mepoch\u001b[39m:\u001b[39;00m\u001b[39m03d\u001b[39m\u001b[39m}\u001b[39;00m\u001b[39m, Loss: \u001b[39m\u001b[39m{\u001b[39;00mloss\u001b[39m:\u001b[39;00m\u001b[39m.4f\u001b[39m\u001b[39m}\u001b[39;00m\u001b[39m'\u001b[39m)\n",
      "Cell \u001b[0;32mIn [153], line 7\u001b[0m, in \u001b[0;36mtrain\u001b[0;34m(loader)\u001b[0m\n\u001b[1;32m      5\u001b[0m model\u001b[39m.\u001b[39mtrain()\n\u001b[1;32m      6\u001b[0m optimizer\u001b[39m.\u001b[39mzero_grad()  \u001b[39m# Clear gradients.\u001b[39;00m\n\u001b[0;32m----> 7\u001b[0m out \u001b[39m=\u001b[39m model(batch\u001b[39m.\u001b[39;49mx\u001b[39m.\u001b[39;49mfloat(), batch\u001b[39m.\u001b[39;49medge_index, batch\u001b[39m.\u001b[39;49medge_weight)  \u001b[39m# Perform a single forward pass.\u001b[39;00m\n\u001b[1;32m      8\u001b[0m loss \u001b[39m=\u001b[39m criterion(out[batch\u001b[39m.\u001b[39mtrain_mask], batch\u001b[39m.\u001b[39my[batch\u001b[39m.\u001b[39mtrain_mask])  \u001b[39m# Compute the loss solely based on the training nodes.\u001b[39;00m\n\u001b[1;32m      9\u001b[0m loss\u001b[39m.\u001b[39mbackward()  \u001b[39m# Derive gradients.\u001b[39;00m\n",
      "File \u001b[0;32m~/.local/lib/python3.8/site-packages/torch/nn/modules/module.py:1190\u001b[0m, in \u001b[0;36mModule._call_impl\u001b[0;34m(self, *input, **kwargs)\u001b[0m\n\u001b[1;32m   1186\u001b[0m \u001b[39m# If we don't have any hooks, we want to skip the rest of the logic in\u001b[39;00m\n\u001b[1;32m   1187\u001b[0m \u001b[39m# this function, and just call forward.\u001b[39;00m\n\u001b[1;32m   1188\u001b[0m \u001b[39mif\u001b[39;00m \u001b[39mnot\u001b[39;00m (\u001b[39mself\u001b[39m\u001b[39m.\u001b[39m_backward_hooks \u001b[39mor\u001b[39;00m \u001b[39mself\u001b[39m\u001b[39m.\u001b[39m_forward_hooks \u001b[39mor\u001b[39;00m \u001b[39mself\u001b[39m\u001b[39m.\u001b[39m_forward_pre_hooks \u001b[39mor\u001b[39;00m _global_backward_hooks\n\u001b[1;32m   1189\u001b[0m         \u001b[39mor\u001b[39;00m _global_forward_hooks \u001b[39mor\u001b[39;00m _global_forward_pre_hooks):\n\u001b[0;32m-> 1190\u001b[0m     \u001b[39mreturn\u001b[39;00m forward_call(\u001b[39m*\u001b[39;49m\u001b[39minput\u001b[39;49m, \u001b[39m*\u001b[39;49m\u001b[39m*\u001b[39;49mkwargs)\n\u001b[1;32m   1191\u001b[0m \u001b[39m# Do not call functions when jit is used\u001b[39;00m\n\u001b[1;32m   1192\u001b[0m full_backward_hooks, non_full_backward_hooks \u001b[39m=\u001b[39m [], []\n",
      "Cell \u001b[0;32mIn [150], line 12\u001b[0m, in \u001b[0;36mGCN.forward\u001b[0;34m(self, x, edge_index, edge_weight)\u001b[0m\n\u001b[1;32m     11\u001b[0m \u001b[39mdef\u001b[39;00m \u001b[39mforward\u001b[39m(\u001b[39mself\u001b[39m, x, edge_index, edge_weight):\n\u001b[0;32m---> 12\u001b[0m     x \u001b[39m=\u001b[39m \u001b[39mself\u001b[39;49m\u001b[39m.\u001b[39;49mconv1(x, edge_index, edge_weight)\n\u001b[1;32m     13\u001b[0m     x \u001b[39m=\u001b[39m x\u001b[39m.\u001b[39mrelu()\n\u001b[1;32m     14\u001b[0m     x \u001b[39m=\u001b[39m F\u001b[39m.\u001b[39mdropout(x, p\u001b[39m=\u001b[39m\u001b[39m0.5\u001b[39m, training\u001b[39m=\u001b[39m\u001b[39mself\u001b[39m\u001b[39m.\u001b[39mtraining)\n",
      "File \u001b[0;32m~/.local/lib/python3.8/site-packages/torch/nn/modules/module.py:1190\u001b[0m, in \u001b[0;36mModule._call_impl\u001b[0;34m(self, *input, **kwargs)\u001b[0m\n\u001b[1;32m   1186\u001b[0m \u001b[39m# If we don't have any hooks, we want to skip the rest of the logic in\u001b[39;00m\n\u001b[1;32m   1187\u001b[0m \u001b[39m# this function, and just call forward.\u001b[39;00m\n\u001b[1;32m   1188\u001b[0m \u001b[39mif\u001b[39;00m \u001b[39mnot\u001b[39;00m (\u001b[39mself\u001b[39m\u001b[39m.\u001b[39m_backward_hooks \u001b[39mor\u001b[39;00m \u001b[39mself\u001b[39m\u001b[39m.\u001b[39m_forward_hooks \u001b[39mor\u001b[39;00m \u001b[39mself\u001b[39m\u001b[39m.\u001b[39m_forward_pre_hooks \u001b[39mor\u001b[39;00m _global_backward_hooks\n\u001b[1;32m   1189\u001b[0m         \u001b[39mor\u001b[39;00m _global_forward_hooks \u001b[39mor\u001b[39;00m _global_forward_pre_hooks):\n\u001b[0;32m-> 1190\u001b[0m     \u001b[39mreturn\u001b[39;00m forward_call(\u001b[39m*\u001b[39;49m\u001b[39minput\u001b[39;49m, \u001b[39m*\u001b[39;49m\u001b[39m*\u001b[39;49mkwargs)\n\u001b[1;32m   1191\u001b[0m \u001b[39m# Do not call functions when jit is used\u001b[39;00m\n\u001b[1;32m   1192\u001b[0m full_backward_hooks, non_full_backward_hooks \u001b[39m=\u001b[39m [], []\n",
      "File \u001b[0;32m~/.local/lib/python3.8/site-packages/torch_geometric/nn/conv/gcn_conv.py:176\u001b[0m, in \u001b[0;36mGCNConv.forward\u001b[0;34m(self, x, edge_index, edge_weight)\u001b[0m\n\u001b[1;32m    174\u001b[0m cache \u001b[39m=\u001b[39m \u001b[39mself\u001b[39m\u001b[39m.\u001b[39m_cached_edge_index\n\u001b[1;32m    175\u001b[0m \u001b[39mif\u001b[39;00m cache \u001b[39mis\u001b[39;00m \u001b[39mNone\u001b[39;00m:\n\u001b[0;32m--> 176\u001b[0m     edge_index, edge_weight \u001b[39m=\u001b[39m gcn_norm(  \u001b[39m# yapf: disable\u001b[39;49;00m\n\u001b[1;32m    177\u001b[0m         edge_index, edge_weight, x\u001b[39m.\u001b[39;49msize(\u001b[39mself\u001b[39;49m\u001b[39m.\u001b[39;49mnode_dim),\n\u001b[1;32m    178\u001b[0m         \u001b[39mself\u001b[39;49m\u001b[39m.\u001b[39;49mimproved, \u001b[39mself\u001b[39;49m\u001b[39m.\u001b[39;49madd_self_loops, \u001b[39mself\u001b[39;49m\u001b[39m.\u001b[39;49mflow, x\u001b[39m.\u001b[39;49mdtype)\n\u001b[1;32m    179\u001b[0m     \u001b[39mif\u001b[39;00m \u001b[39mself\u001b[39m\u001b[39m.\u001b[39mcached:\n\u001b[1;32m    180\u001b[0m         \u001b[39mself\u001b[39m\u001b[39m.\u001b[39m_cached_edge_index \u001b[39m=\u001b[39m (edge_index, edge_weight)\n",
      "File \u001b[0;32m~/.local/lib/python3.8/site-packages/torch_geometric/nn/conv/gcn_conv.py:61\u001b[0m, in \u001b[0;36mgcn_norm\u001b[0;34m(edge_index, edge_weight, num_nodes, improved, add_self_loops, flow, dtype)\u001b[0m\n\u001b[1;32m     57\u001b[0m     edge_weight \u001b[39m=\u001b[39m torch\u001b[39m.\u001b[39mones((edge_index\u001b[39m.\u001b[39msize(\u001b[39m1\u001b[39m), ), dtype\u001b[39m=\u001b[39mdtype,\n\u001b[1;32m     58\u001b[0m                              device\u001b[39m=\u001b[39medge_index\u001b[39m.\u001b[39mdevice)\n\u001b[1;32m     60\u001b[0m \u001b[39mif\u001b[39;00m add_self_loops:\n\u001b[0;32m---> 61\u001b[0m     edge_index, tmp_edge_weight \u001b[39m=\u001b[39m add_remaining_self_loops(\n\u001b[1;32m     62\u001b[0m         edge_index, edge_weight, fill_value, num_nodes)\n\u001b[1;32m     63\u001b[0m     \u001b[39massert\u001b[39;00m tmp_edge_weight \u001b[39mis\u001b[39;00m \u001b[39mnot\u001b[39;00m \u001b[39mNone\u001b[39;00m\n\u001b[1;32m     64\u001b[0m     edge_weight \u001b[39m=\u001b[39m tmp_edge_weight\n",
      "File \u001b[0;32m~/.local/lib/python3.8/site-packages/torch_geometric/utils/loop.py:282\u001b[0m, in \u001b[0;36madd_remaining_self_loops\u001b[0;34m(edge_index, edge_attr, fill_value, num_nodes)\u001b[0m\n\u001b[1;32m    279\u001b[0m     loop_attr \u001b[39m=\u001b[39m edge_attr\u001b[39m.\u001b[39mnew_full((N, ) \u001b[39m+\u001b[39m edge_attr\u001b[39m.\u001b[39msize()[\u001b[39m1\u001b[39m:], \u001b[39m1.\u001b[39m)\n\u001b[1;32m    281\u001b[0m \u001b[39melif\u001b[39;00m \u001b[39misinstance\u001b[39m(fill_value, (\u001b[39mint\u001b[39m, \u001b[39mfloat\u001b[39m)):\n\u001b[0;32m--> 282\u001b[0m     loop_attr \u001b[39m=\u001b[39m edge_attr\u001b[39m.\u001b[39;49mnew_full((N, ) \u001b[39m+\u001b[39;49m edge_attr\u001b[39m.\u001b[39;49msize()[\u001b[39m1\u001b[39;49m:],\n\u001b[1;32m    283\u001b[0m                                    fill_value)\n\u001b[1;32m    284\u001b[0m \u001b[39melif\u001b[39;00m \u001b[39misinstance\u001b[39m(fill_value, Tensor):\n\u001b[1;32m    285\u001b[0m     loop_attr \u001b[39m=\u001b[39m fill_value\u001b[39m.\u001b[39mto(edge_attr\u001b[39m.\u001b[39mdevice, edge_attr\u001b[39m.\u001b[39mdtype)\n",
      "\u001b[0;31mKeyboardInterrupt\u001b[0m: "
     ]
    }
   ],
   "source": [
    "batchsize = 8\n",
    "num_batch = 4\n",
    "loader = DataLoader(dataset[:batchsize*num_batch], batch_size=batchsize, shuffle=True)\n",
    "\n",
    "for epoch in range(1, 100):\n",
    "    loss = train(loader)\n",
    "    print(f'Epoch: {epoch:03d}, Loss: {loss:.4f}')"
   ]
  },
  {
   "cell_type": "code",
   "execution_count": 156,
   "metadata": {},
   "outputs": [
    {
     "data": {
      "text/plain": [
       "0.9972873263888888"
      ]
     },
     "execution_count": 156,
     "metadata": {},
     "output_type": "execute_result"
    }
   ],
   "source": [
    "test(dataset[0])"
   ]
  },
  {
   "cell_type": "code",
   "execution_count": 161,
   "metadata": {},
   "outputs": [
    {
     "name": "stdout",
     "output_type": "stream",
     "text": [
      "110592 53\n",
      "0.9995207609953703 0.0 0.0\n"
     ]
    },
    {
     "name": "stderr",
     "output_type": "stream",
     "text": [
      "/tmp/ipykernel_21780/2793121073.py:15: UserWarning: indexing with dtype torch.uint8 is now deprecated, please use a dtype torch.bool instead. (Triggered internally at ../aten/src/ATen/native/IndexingUtils.h:27.)\n",
      "  precision = int(test_correct[np.logical_and(true_label, pred == 1)].sum()) / int(len(pred == 1))\n"
     ]
    }
   ],
   "source": [
    "data = dataset[80]\n",
    "\n",
    "model.eval()\n",
    "out = model(data.x.float(), data.edge_index, data.edge_weight)\n",
    "pred = out.argmax(dim=1)  # Use the class with highest probability.\n",
    "true_class = data.y.argmax(dim=1)\n",
    "test_correct = pred == true_class  # Check against ground-truth labels.\n",
    "\n",
    "true_label = (true_class == 1)\n",
    "\n",
    "test_acc = int(test_correct.sum()) / int(len(data.x))  # Derive ratio of correct predictions.\n",
    "\n",
    "recall = int(test_correct[true_label].sum()) / int(len(data.x[true_label]))\n",
    "\n",
    "precision = int(test_correct[np.logical_and(true_label, pred == 1)].sum()) / int(len(pred == 1))\n",
    "\n",
    "print(len(pred == 1), len(data.x[true_label]))\n",
    "\n",
    "print(test_acc, precision, recall)"
   ]
  },
  {
   "cell_type": "code",
   "execution_count": 162,
   "metadata": {},
   "outputs": [
    {
     "data": {
      "image/png": "[encoded data removed]",
      "text/plain": [
       "<Figure size 1000x1000 with 1 Axes>"
      ]
     },
     "metadata": {},
     "output_type": "display_data"
    }
   ],
   "source": [
    "import matplotlib.pyplot as plt\n",
    "import numpy as np\n",
    "\n",
    "pred = pred.reshape(shape)\n",
    "\n",
    "fig = plt.figure(figsize=(10, 10))\n",
    "ax = fig.add_subplot(111, projection='3d')\n",
    "ax.voxels(np.where(pred > 0.5, 1, 0), color='r', edgecolor='k', alpha=0.5)\n",
    "ax.voxels(np.where(data.y.argmax(dim=1).reshape(shape) > 0.5, 1, 0) , color='g', edgecolor='k', alpha=0.5)\n",
    "ax.set(xlabel='channel', ylabel='width', zlabel='height')\n",
    "\n",
    "plt.show()"
   ]
  },
  {
   "cell_type": "code",
   "execution_count": null,
   "metadata": {},
   "outputs": [],
   "source": []
  }
 ],
 "metadata": {
  "kernelspec": {
   "display_name": "Python 3.8.10 64-bit",
   "language": "python",
   "name": "python3"
  },
  "language_info": {
   "codemirror_mode": {
    "name": "ipython",
    "version": 3
   },
   "file_extension": ".py",
   "mimetype": "text/x-python",
   "name": "python",
   "nbconvert_exporter": "python",
   "pygments_lexer": "ipython3",
   "version": "3.8.10"
  },
  "orig_nbformat": 4,
  "vscode": {
   "interpreter": {
    "hash": "916dbcbb3f70747c44a77c7bcd40155683ae19c65e1c03b4aa3499c5328201f1"
   }
  }
 },
 "nbformat": 4,
 "nbformat_minor": 2
}
